{
 "cells": [
  {
   "cell_type": "markdown",
   "metadata": {},
   "source": [
    "### Python"
   ]
  },
  {
   "cell_type": "code",
   "execution_count": 4,
   "metadata": {},
   "outputs": [
    {
     "name": "stdout",
     "output_type": "stream",
     "text": [
      "{'output': {'answer': 'The chatbots are in their respective folders with an application launcher autorun'}, 'metadata': {'run_id': '35e27b51-7ec9-46d2-b72d-31dd3221a3cb', 'feedback_tokens': []}}\n"
     ]
    }
   ],
   "source": [
    "import requests\n",
    "import json\n",
    "\n",
    "# URL of the API\n",
    "url = \"https://onboarding-bot-model-staging.devlaunchers.org/invoke\"\n",
    "\n",
    "# Question to the chatBot\n",
    "question = \"How install the chatbot ?\"\n",
    "\n",
    "# Request data\n",
    "data = {\n",
    "    \"input\": {\n",
    "        \"question\": question,\n",
    "        \"chat_history\": []\n",
    "    },\n",
    "    \"config\": {},\n",
    "    \"kwargs\": {}\n",
    "}\n",
    "\n",
    "# Request headers\n",
    "headers = {\n",
    "    \"Accept\": \"application/json\",\n",
    "    \"Content-Type\": \"application/json\"\n",
    "}\n",
    "\n",
    "# Send POST request and get response\n",
    "response = requests.post(url, data=json.dumps(data), headers=headers)\n",
    "\n",
    "# Check status code\n",
    "if response.status_code == 200:\n",
    "    # Process JSON response\n",
    "    response_data = json.loads(response.text)\n",
    "    print(response_data)\n",
    "else:\n",
    "    print(\"Request failed:\", response.status_code)"
   ]
  },
  {
   "cell_type": "markdown",
   "metadata": {},
   "source": [
    "### Curl"
   ]
  },
  {
   "cell_type": "code",
   "execution_count": 7,
   "metadata": {},
   "outputs": [
    {
     "name": "stdout",
     "output_type": "stream",
     "text": [
      "{\"output\":{\"answer\":\"The chatbots are in their respective folders with an application launcher autorun\"},\"metadata\":{\"run_id\":\"d0420ebc-df39-468f-af35-d8af3a8b50e7\",\"feedback_tokens\":[]}}\n"
     ]
    }
   ],
   "source": [
    "import subprocess\n",
    "\n",
    "# Example curl command\n",
    "curl_command = \"\"\"\n",
    "curl -X 'POST' \\\n",
    "  'https://onboarding-bot-model-staging.devlaunchers.org/invoke' \\\n",
    "  -H 'accept: application/json' \\\n",
    "  -H 'Content-Type: application/json' \\\n",
    "  -d '{\n",
    "  \"input\": {\n",
    "    \"question\": \"How install the chatbot ?\",\n",
    "    \"chat_history\": []\n",
    "  },\n",
    "  \"config\": {},\n",
    "  \"kwargs\": {}\n",
    "}'\n",
    "\"\"\"\n",
    "\n",
    "# Execute the curl command\n",
    "result = subprocess.run(curl_command, shell=True, capture_output=True, text=True)\n",
    "\n",
    "# Display the output\n",
    "print(result.stdout)"
   ]
  }
 ],
 "metadata": {
  "kernelspec": {
   "display_name": "Python 3",
   "language": "python",
   "name": "python3"
  },
  "language_info": {
   "codemirror_mode": {
    "name": "ipython",
    "version": 3
   },
   "file_extension": ".py",
   "mimetype": "text/x-python",
   "name": "python",
   "nbconvert_exporter": "python",
   "pygments_lexer": "ipython3",
   "version": "3.11.6"
  }
 },
 "nbformat": 4,
 "nbformat_minor": 2
}
