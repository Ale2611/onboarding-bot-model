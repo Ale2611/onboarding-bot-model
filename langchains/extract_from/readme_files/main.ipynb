{
 "cells": [
  {
   "cell_type": "markdown",
   "metadata": {},
   "source": [
    "# Read and creating the list of repositories"
   ]
  },
  {
   "cell_type": "markdown",
   "metadata": {},
   "source": [
    "### GitHub Token from File \n",
    "*⚠️ Add `TOKEN.txt` to .gitignore* \n",
    "\n",
    "Create a GitHub Token using this [Link](https://github.com/settings/tokens/new) and configure it with the following parameters:\n",
    "* `read:packages`\n",
    "* `read:org`\n",
    "* `read:discussion`\n",
    "* `read:project`"
   ]
  },
  {
   "cell_type": "code",
   "execution_count": 1,
   "metadata": {},
   "outputs": [],
   "source": [
    "access_token = open('TOKEN.txt', 'r').read()"
   ]
  },
  {
   "cell_type": "markdown",
   "metadata": {},
   "source": [
    "### GitHub Organization"
   ]
  },
  {
   "cell_type": "code",
   "execution_count": 2,
   "metadata": {},
   "outputs": [],
   "source": [
    "org_name = 'dev-launchers'"
   ]
  },
  {
   "cell_type": "markdown",
   "metadata": {},
   "source": [
    "### Get the repositories list"
   ]
  },
  {
   "cell_type": "code",
   "execution_count": 3,
   "metadata": {},
   "outputs": [],
   "source": [
    "import requests\n",
    "\n",
    "def get_organization_repositories(org_name, access_token):\n",
    "    headers = {\n",
    "        'Authorization': f'token {access_token}',\n",
    "        'Accept': 'application/vnd.github.v3+json'\n",
    "    }\n",
    "\n",
    "    params = {\n",
    "        'sort': 'updated',\n",
    "        'direction': 'desc',\n",
    "        'per_page': 100\n",
    "    }\n",
    "\n",
    "    # Retrieve the list of repositories for the organization\n",
    "    response = requests.get(f'https://api.github.com/orgs/{org_name}/repos', headers=headers, params=params)\n",
    "\n",
    "    if response.status_code == 200:\n",
    "        repositories = response.json()\n",
    "        return repositories\n",
    "    else:\n",
    "        print(f'Error {response.status_code}: Unable to retrieve organization repositories.')\n",
    "        return None\n",
    "\n",
    "repositories = get_organization_repositories(org_name, access_token)"
   ]
  },
  {
   "cell_type": "markdown",
   "metadata": {},
   "source": [
    "### Checking"
   ]
  },
  {
   "cell_type": "code",
   "execution_count": 4,
   "metadata": {},
   "outputs": [
    {
     "name": "stdout",
     "output_type": "stream",
     "text": [
      "Organization dev-launchers repositories:\n",
      "discord-gateway\n",
      "auth-proxy\n",
      "onboarding-bot-model\n",
      "webhook-workers\n",
      "strapiv4\n",
      "dev-launchers-platform\n",
      "VictorDiniz89\n",
      "onboarding-bot\n",
      "platform__dl-edu\n",
      "minecraft__dev-launchers-library\n",
      "community-minecraft\n",
      "stories\n",
      "strapi\n",
      "monorepo\n",
      "platform__dl-ideas\n",
      "project__mhw-guides\n",
      "react-course-finals\n",
      "devbots__general\n",
      "Dev-Recruiters\n",
      "cron-worker\n",
      "devbots__game\n",
      "dashboard\n",
      "site-projects\n",
      "platform__dev-env\n",
      "Dev-Mentors\n",
      "devbots__backend\n",
      "site-users\n",
      "minecraft__tamingplus\n",
      "project__oj\n",
      "website-router\n",
      "minecraft__newbies\n",
      "minecraft__dailies\n",
      "minecraft__egg-hunt\n",
      "minecraft__pack\n",
      "project__recipe-book\n",
      "minecraft__devbeans\n",
      "minecraft__travelers-wand\n",
      "minecraft__guardians\n",
      "InfoActionBar_Plugin-Minecraft\n",
      "community-minecraft-plugins\n",
      "learning-resources\n",
      "community-engagement__general\n",
      "private__website\n",
      "react-bookstore-cart\n",
      "mongodb-backup\n",
      "interactive-bot\n",
      "app-proxy\n",
      "project__posted-backend\n",
      "tool__admin-portal\n",
      "project__discord-bot\n",
      "project__allone\n",
      "project__posted\n",
      "project__sports-area\n",
      "project__safe-keep\n",
      "project__forest-favors\n",
      "project__pokemon-for-dummies\n",
      "tool__slack-bridge\n",
      "tool__slack-file-share\n",
      "project__On-A-Mission\n",
      "project__pong-adventure\n",
      "project__poddles\n",
      "project__hungry-ghost\n",
      "template__activity\n",
      "template__project\n"
     ]
    }
   ],
   "source": [
    "if repositories:\n",
    "    print(f'Organization {org_name} repositories:')\n",
    "    for repo in repositories:\n",
    "        print(repo['name'])"
   ]
  },
  {
   "cell_type": "markdown",
   "metadata": {},
   "source": [
    "### Convert in Readme.md links list"
   ]
  },
  {
   "cell_type": "code",
   "execution_count": 5,
   "metadata": {},
   "outputs": [],
   "source": [
    "repo_readme_list = []\n",
    "\n",
    "if repositories:\n",
    "    for repo in repositories:\n",
    "        # Create Links\n",
    "        repo_readme = repo['html_url'].replace(\"https://github.com\", \"https://raw.githubusercontent.com\") + \"/main/README.md\"\n",
    "        # Adding to List\n",
    "        repo_readme_list.append(repo_readme)"
   ]
  },
  {
   "cell_type": "markdown",
   "metadata": {},
   "source": [
    "### Download in Folder"
   ]
  },
  {
   "cell_type": "code",
   "execution_count": 6,
   "metadata": {},
   "outputs": [
    {
     "name": "stdout",
     "output_type": "stream",
     "text": [
      "Failed to download the file discord-gateway.\n",
      "Failed to download the file auth-proxy.\n",
      "The file onboarding-bot-model has been successfully downloaded.\n",
      "The file webhook-workers has been successfully downloaded.\n",
      "The file strapiv4 has been successfully downloaded.\n",
      "Failed to download the file dev-launchers-platform.\n",
      "Failed to download the file VictorDiniz89.\n",
      "The file onboarding-bot has been successfully downloaded.\n",
      "The file platform__dl-edu has been successfully downloaded.\n",
      "The file minecraft__dev-launchers-library has been successfully downloaded.\n",
      "The file community-minecraft has been successfully downloaded.\n",
      "Failed to download the file stories.\n",
      "The file strapi has been successfully downloaded.\n",
      "Failed to download the file monorepo.\n",
      "Failed to download the file platform__dl-ideas.\n",
      "The file project__mhw-guides has been successfully downloaded.\n",
      "Failed to download the file react-course-finals.\n",
      "The file devbots__general has been successfully downloaded.\n",
      "Failed to download the file Dev-Recruiters.\n",
      "The file cron-worker has been successfully downloaded.\n",
      "The file devbots__game has been successfully downloaded.\n",
      "Failed to download the file dashboard.\n",
      "Failed to download the file site-projects.\n",
      "The file platform__dev-env has been successfully downloaded.\n",
      "Failed to download the file Dev-Mentors.\n",
      "The file devbots__backend has been successfully downloaded.\n",
      "Failed to download the file site-users.\n",
      "The file minecraft__tamingplus has been successfully downloaded.\n",
      "The file project__oj has been successfully downloaded.\n",
      "The file website-router has been successfully downloaded.\n",
      "The file minecraft__newbies has been successfully downloaded.\n",
      "Failed to download the file minecraft__dailies.\n",
      "The file minecraft__egg-hunt has been successfully downloaded.\n",
      "The file minecraft__pack has been successfully downloaded.\n",
      "The file project__recipe-book has been successfully downloaded.\n",
      "The file minecraft__devbeans has been successfully downloaded.\n",
      "The file minecraft__travelers-wand has been successfully downloaded.\n",
      "Failed to download the file minecraft__guardians.\n",
      "Failed to download the file InfoActionBar_Plugin-Minecraft.\n",
      "The file community-minecraft-plugins has been successfully downloaded.\n",
      "The file learning-resources has been successfully downloaded.\n",
      "The file community-engagement__general has been successfully downloaded.\n",
      "Failed to download the file private__website.\n",
      "Failed to download the file react-bookstore-cart.\n",
      "Failed to download the file mongodb-backup.\n",
      "Failed to download the file interactive-bot.\n",
      "Failed to download the file app-proxy.\n",
      "Failed to download the file project__posted-backend.\n",
      "Failed to download the file tool__admin-portal.\n",
      "Failed to download the file project__discord-bot.\n",
      "Failed to download the file project__allone.\n",
      "Failed to download the file project__posted.\n",
      "Failed to download the file project__sports-area.\n",
      "Failed to download the file project__safe-keep.\n",
      "Failed to download the file project__forest-favors.\n",
      "Failed to download the file project__pokemon-for-dummies.\n",
      "Failed to download the file tool__slack-bridge.\n",
      "Failed to download the file tool__slack-file-share.\n",
      "Failed to download the file project__On-A-Mission.\n",
      "Failed to download the file project__pong-adventure.\n",
      "Failed to download the file project__poddles.\n",
      "Failed to download the file project__hungry-ghost.\n",
      "Failed to download the file template__activity.\n",
      "Failed to download the file template__project.\n"
     ]
    }
   ],
   "source": [
    "import os\n",
    "import requests\n",
    "\n",
    "def download_files(urls, folder_name=\"Folder\"):\n",
    "    # Create the folder if it does not exist\n",
    "    if not os.path.exists(folder_name):\n",
    "        os.makedirs(folder_name)\n",
    "\n",
    "    for url in urls:\n",
    "        # Get the file name from the URL\n",
    "        file_name = url.split(\"/\")[-3]\n",
    "        \n",
    "        # Concatenate the full file path\n",
    "        file_path = os.path.join(folder_name, file_name)\n",
    "\n",
    "        # Download the file\n",
    "        response = requests.get(url)\n",
    "        if response.status_code == 200:\n",
    "            # Write the content into the local file\n",
    "            with open(f\"{file_path}.md\", 'wb') as f:\n",
    "                f.write(response.content)\n",
    "            print(f\"The file {file_name} has been successfully downloaded.\")\n",
    "        else:\n",
    "            print(f\"Failed to download the file {file_name}.\")\n",
    "\n",
    "\n",
    "download_files(repo_readme_list)"
   ]
  },
  {
   "cell_type": "code",
   "execution_count": null,
   "metadata": {},
   "outputs": [],
   "source": []
  }
 ],
 "metadata": {
  "kernelspec": {
   "display_name": "Python 3",
   "language": "python",
   "name": "python3"
  },
  "language_info": {
   "codemirror_mode": {
    "name": "ipython",
    "version": 3
   },
   "file_extension": ".py",
   "mimetype": "text/x-python",
   "name": "python",
   "nbconvert_exporter": "python",
   "pygments_lexer": "ipython3",
   "version": "3.11.6"
  }
 },
 "nbformat": 4,
 "nbformat_minor": 2
}
