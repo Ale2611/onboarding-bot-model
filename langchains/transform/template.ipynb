{
 "cells": [
  {
   "cell_type": "markdown",
   "metadata": {},
   "source": [
    "## Common Use\n",
    "\n",
    "These two functions split all .md documents and all .html documents into chunks."
   ]
  },
  {
   "cell_type": "code",
   "execution_count": null,
   "metadata": {},
   "outputs": [],
   "source": [
    "import split\n",
    "\n",
    "docs_mark = split.markdowns_from(files_directory=\"../\")\n",
    "\n",
    "docs_html = split.html_from(files_directory=\"../\")"
   ]
  },
  {
   "cell_type": "code",
   "execution_count": null,
   "metadata": {},
   "outputs": [],
   "source": [
    "docs = docs_mark + docs_html"
   ]
  },
  {
   "cell_type": "markdown",
   "metadata": {},
   "source": [
    "**Storing Python Objects:** Pickle files are used to store Python objects persistently. \\\n",
    "This means that you can save complex objects such as lists, dictionaries, classes, and even object instances into a pickle file. \\\n",
    "In this case, to mark a checkpoint between the \"transform\" step ans remainder of the pipeline."
   ]
  },
  {
   "cell_type": "code",
   "execution_count": null,
   "metadata": {},
   "outputs": [],
   "source": [
    "import pickle\n",
    "\n",
    "# Save the list to a pickle file\n",
    "with open('documents.pkl', 'wb') as f:\n",
    "    pickle.dump(docs, f)\n",
    "\n",
    "# To load the list later\n",
    "with open('documents.pkl', 'rb') as f:\n",
    "    loaded_list = pickle.load(f)"
   ]
  }
 ],
 "metadata": {
  "kernelspec": {
   "display_name": "bemb",
   "language": "python",
   "name": "python3"
  },
  "language_info": {
   "codemirror_mode": {
    "name": "ipython",
    "version": 3
   },
   "file_extension": ".py",
   "mimetype": "text/x-python",
   "name": "python",
   "nbconvert_exporter": "python",
   "pygments_lexer": "ipython3",
   "version": "3.11.8"
  }
 },
 "nbformat": 4,
 "nbformat_minor": 2
}
