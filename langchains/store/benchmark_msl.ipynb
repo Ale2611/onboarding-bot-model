{
 "cells": [
  {
   "cell_type": "markdown",
   "metadata": {},
   "source": [
    "# Benchmark (Merge, Save, Load)\n",
    "[Vector Stores](https://python.langchain.com/docs/integrations/vectorstores)\n",
    "\n",
    "It turned out that in the chosen vector store only Faiss is able to merge."
   ]
  },
  {
   "cell_type": "code",
   "execution_count": 20,
   "metadata": {},
   "outputs": [
    {
     "name": "stdout",
     "output_type": "stream",
     "text": [
      "bert_load_from_file: gguf version     = 2\n",
      "bert_load_from_file: gguf alignment   = 32\n",
      "bert_load_from_file: gguf data offset = 695552\n",
      "bert_load_from_file: model name           = BERT\n",
      "bert_load_from_file: model architecture   = bert\n",
      "bert_load_from_file: model file type      = 1\n",
      "bert_load_from_file: bert tokenizer vocab = 30522\n"
     ]
    },
    {
     "name": "stderr",
     "output_type": "stream",
     "text": [
      "100%|█████████▉| 5951/5956 [00:02<00:00, 2466.25it/s]\n"
     ]
    }
   ],
   "source": [
    "from langchain_community.embeddings import GPT4AllEmbeddings\n",
    "import markdown_splitter as mdS\n",
    "import os\n",
    "import subprocess\n",
    "import tracemalloc\n",
    "\n",
    "# data/reusables/open-source/open-source-guide-general.md\n",
    "query = \"Where can I find guidance on creating and nurturing an open source project\"\n",
    "\n",
    "embeddings = GPT4AllEmbeddings()\n",
    "\n",
    "folder_name = \"Local\"\n",
    "\n",
    "if not os.path.exists(folder_name):\n",
    "    os.makedirs(folder_name)\n",
    "\n",
    "    subprocess.run([\"git\", \"clone\", \"https://github.com/github/docs.git\", folder_name])\n",
    "\n",
    "docs = mdS.create_db(path=folder_name, glob=\"**/*.md\",split=None)"
   ]
  },
  {
   "cell_type": "code",
   "execution_count": 21,
   "metadata": {},
   "outputs": [],
   "source": [
    "half = int(len(docs)/2)\n",
    "\n",
    "docsPart1 = docs[:half]\n",
    "docsPart2 = docs[half:]"
   ]
  },
  {
   "cell_type": "markdown",
   "metadata": {},
   "source": [
    "## FAISS"
   ]
  },
  {
   "cell_type": "code",
   "execution_count": 3,
   "metadata": {},
   "outputs": [
    {
     "name": "stdout",
     "output_type": "stream",
     "text": [
      "(928, 11633)\n",
      "(130635632, 151633809)\n"
     ]
    }
   ],
   "source": [
    "tracemalloc.start()\n",
    "print(tracemalloc.get_traced_memory())\n",
    "\n",
    "# Store\n",
    "from langchain_community.vectorstores import FAISS as VectorStore\n",
    "docsearchPart1 = await VectorStore.afrom_documents(docsPart1, embeddings)\n",
    "docsearchPart2 = await VectorStore.afrom_documents(docsPart2, embeddings)\n",
    "\n",
    "print(tracemalloc.get_traced_memory())\n",
    "tracemalloc.stop()"
   ]
  },
  {
   "cell_type": "code",
   "execution_count": 4,
   "metadata": {},
   "outputs": [
    {
     "name": "stdout",
     "output_type": "stream",
     "text": [
      "(1056, 11761)\n",
      "(1425961, 2242909)\n"
     ]
    }
   ],
   "source": [
    "tracemalloc.start()\n",
    "print(tracemalloc.get_traced_memory())\n",
    "\n",
    "# Merge\n",
    "docsearchPart1.merge_from(docsearchPart2)\n",
    "\n",
    "print(tracemalloc.get_traced_memory())\n",
    "tracemalloc.stop()"
   ]
  },
  {
   "cell_type": "code",
   "execution_count": 6,
   "metadata": {},
   "outputs": [
    {
     "name": "stdout",
     "output_type": "stream",
     "text": [
      "(44103486, 45295178)\n",
      "(78782387, 87635148)\n"
     ]
    }
   ],
   "source": [
    "tracemalloc.start()\n",
    "print(tracemalloc.get_traced_memory())\n",
    "\n",
    "# Save\n",
    "docsearchPart1.save_local(\"faiss_index\")\n",
    "\n",
    "# Load \n",
    "new_db = VectorStore.load_local(\"faiss_index\", embeddings)\n",
    "\n",
    "print(tracemalloc.get_traced_memory())\n",
    "tracemalloc.stop()"
   ]
  },
  {
   "cell_type": "code",
   "execution_count": 8,
   "metadata": {},
   "outputs": [
    {
     "name": "stdout",
     "output_type": "stream",
     "text": [
      "CPU times: user 2.6 s, sys: 21 ms, total: 2.62 s\n",
      "Wall time: 699 ms\n"
     ]
    },
    {
     "data": {
      "text/plain": [
       "[Document(page_content=\"For more information on open source, specifically how to create and grow an open source project, we've created [Open Source Guides](https://opensource.guide/) that will help you foster a healthy open source community.\"),\n",
       " Document(page_content=\"For more information on open source, specifically how to create and grow an open source project, we've created [Open Source Guides](https://opensource.guide/) that will help you foster a healthy open source community by recommending best practices for creating and maintaining repositories for your open source project.\"),\n",
       " Document(page_content='There are a variety of ways that you can contribute to open source projects.', metadata={'Header 2': 'Validating an issue or pull request'}),\n",
       " Document(page_content='- \"[Your Code of Conduct](https://opensource.guide/code-of-conduct/)\" from the Open Source Guides\\n- \"[Building Welcoming Communities](https://opensource.guide/building-community/)\" from the Open Source Guides\\n- \"[Leadership and Governance](https://opensource.guide/leadership-and-governance/)\" from the Open Source Guides', metadata={'Header 2': 'Further reading'})]"
      ]
     },
     "execution_count": 8,
     "metadata": {},
     "output_type": "execute_result"
    }
   ],
   "source": [
    "%%time\n",
    "for i in range(10):\n",
    "    new_db.similarity_search(query)\n",
    "\n",
    "new_db.similarity_search(query)"
   ]
  }
 ],
 "metadata": {
  "kernelspec": {
   "display_name": "bemb",
   "language": "python",
   "name": "python3"
  },
  "language_info": {
   "codemirror_mode": {
    "name": "ipython",
    "version": 3
   },
   "file_extension": ".py",
   "mimetype": "text/x-python",
   "name": "python",
   "nbconvert_exporter": "python",
   "pygments_lexer": "ipython3",
   "version": "3.11.8"
  }
 },
 "nbformat": 4,
 "nbformat_minor": 2
}
