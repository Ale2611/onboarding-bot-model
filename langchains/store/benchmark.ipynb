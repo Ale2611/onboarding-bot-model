{
 "cells": [
  {
   "cell_type": "markdown",
   "metadata": {},
   "source": [
    "# Benchmark\n",
    "[Vector Stores](https://python.langchain.com/docs/integrations/vectorstores)"
   ]
  },
  {
   "cell_type": "code",
   "execution_count": 6,
   "metadata": {},
   "outputs": [
    {
     "name": "stderr",
     "output_type": "stream",
     "text": [
      "100%|██████████| 26/26 [00:00<00:00, 1055.51it/s]\n"
     ]
    },
    {
     "name": "stdout",
     "output_type": "stream",
     "text": [
      "bert_load_from_file: gguf version     = 2\n",
      "bert_load_from_file: gguf alignment   = 32\n",
      "bert_load_from_file: gguf data offset = 695552\n",
      "bert_load_from_file: model name           = BERT\n",
      "bert_load_from_file: model architecture   = bert\n",
      "bert_load_from_file: model file type      = 1\n",
      "bert_load_from_file: bert tokenizer vocab = 30522\n"
     ]
    }
   ],
   "source": [
    "import markdown_splitter as mdS\n",
    "from langchain_community.embeddings import GPT4AllEmbeddings\n",
    "\n",
    "docs = mdS.create_db(path='Folder', glob=\"**/*.md\",split=None)\n",
    "\n",
    "embeddings = GPT4AllEmbeddings()\n",
    "\n",
    "query = \"How install the chatbots\"\n",
    "\n",
    "repeat = 100"
   ]
  },
  {
   "cell_type": "markdown",
   "metadata": {},
   "source": [
    "## DeepLake"
   ]
  },
  {
   "cell_type": "code",
   "execution_count": 24,
   "metadata": {},
   "outputs": [
    {
     "name": "stdout",
     "output_type": "stream",
     "text": [
      "Deep Lake Dataset in ./deeplake/ already exists, loading from the storage\n"
     ]
    },
    {
     "name": "stderr",
     "output_type": "stream",
     "text": [
      "Creating 69 embeddings in 1 batches of size 69:: 100%|██████████| 1/1 [00:04<00:00,  4.48s/it]"
     ]
    },
    {
     "name": "stdout",
     "output_type": "stream",
     "text": [
      "Dataset(path='./deeplake/', tensors=['embedding', 'id', 'metadata', 'text'])\n",
      "\n",
      "  tensor      htype      shape      dtype  compression\n",
      "  -------    -------    -------    -------  ------- \n",
      " embedding  embedding  (138, 384)  float32   None   \n",
      "    id        text      (138, 1)     str     None   \n",
      " metadata     json      (138, 1)     str     None   \n",
      "   text       text      (138, 1)     str     None   \n",
      "CPU times: user 19.5 s, sys: 719 ms, total: 20.2 s\n",
      "Wall time: 5.71 s\n"
     ]
    },
    {
     "name": "stderr",
     "output_type": "stream",
     "text": [
      "\n"
     ]
    }
   ],
   "source": [
    "%%time \n",
    "\n",
    "# Store\n",
    "from langchain_community.vectorstores import DeepLake\n",
    "docsearch = DeepLake.from_documents(docs, embeddings)"
   ]
  },
  {
   "cell_type": "code",
   "execution_count": 25,
   "metadata": {},
   "outputs": [
    {
     "name": "stdout",
     "output_type": "stream",
     "text": [
      "CPU times: user 21.7 s, sys: 4.06 s, total: 25.8 s\n",
      "Wall time: 5.98 s\n"
     ]
    },
    {
     "data": {
      "text/plain": [
       "[Document(page_content=\"The chatbots are in their respective folders with an application launcher `autorun.sh` to install each of them without specific knowledge.  \\nOn Mac, open the terminal and type:\\n```shell\\ncd\\n```\\nDrag the **`folder`** containing the file `autorun.sh`, then press the Enter key (↩︎).  \\n_If you have done it correctly, the **`~`** between your machine's name (`name@MacBook-Pro-of-Name`) and the **`%`** sign should display the name of the `folder` instead._  \\nExecute the following line of code by pressing the Enter key (↩︎):\\n```shell\\nsh autorun.sh\\n```\\nWait a moment, the model should open in your default web browser.\", metadata={'Header 1': 'Onboarding Bot Model', 'Header 2': 'Installation'}),\n",
       " Document(page_content=\"The chatbots are in their respective folders with an application launcher `autorun.sh` to install each of them without specific knowledge.  \\nOn Mac, open the terminal and type:\\n```shell\\ncd\\n```\\nDrag the **`folder`** containing the file `autorun.sh`, then press the Enter key (↩︎).  \\n_If you have done it correctly, the **`~`** between your machine's name (`name@MacBook-Pro-of-Name`) and the **`%`** sign should display the name of the `folder` instead._  \\nExecute the following line of code by pressing the Enter key (↩︎):\\n```shell\\nsh autorun.sh\\n```\\nWait a moment, the model should open in your default web browser.\", metadata={'Header 1': 'Onboarding Bot Model', 'Header 2': 'Installation'}),\n",
       " Document(page_content='The [Dev Launchers](https://devlaunchers.org) website is a community of aspiring developers eager to learn and gain experience. As such, projects are open-source and ambitious, allowing members to enhance their skills.  \\nThe [ChatBot](https://en.wikipedia.org/wiki/Chatbot) project is valuable to this international community working across different time zones. To integrate a new member, it is crucial to be able to address their questions. This becomes challenging when the part of the community capable of responding is located 12 time zones away from the new member. Therefore, it was essential to have a service capable of answering questions, even in the middle of the night.', metadata={'Header 1': 'Onboarding Bot Model', 'Header 2': 'Overview'}),\n",
       " Document(page_content='The [Dev Launchers](https://devlaunchers.org) website is a community of aspiring developers eager to learn and gain experience. As such, projects are open-source and ambitious, allowing members to enhance their skills.  \\nThe [ChatBot](https://en.wikipedia.org/wiki/Chatbot) project is valuable to this international community working across different time zones. To integrate a new member, it is crucial to be able to address their questions. This becomes challenging when the part of the community capable of responding is located 12 time zones away from the new member. Therefore, it was essential to have a service capable of answering questions, even in the middle of the night.', metadata={'Header 1': 'Onboarding Bot Model', 'Header 2': 'Overview'})]"
      ]
     },
     "execution_count": 25,
     "metadata": {},
     "output_type": "execute_result"
    }
   ],
   "source": [
    "%%time\n",
    "for i in range(repeat):\n",
    "    docsearch.similarity_search(query)\n",
    "\n",
    "docsearch.similarity_search(query)"
   ]
  },
  {
   "cell_type": "markdown",
   "metadata": {},
   "source": [
    "## Annoy"
   ]
  },
  {
   "cell_type": "code",
   "execution_count": 26,
   "metadata": {},
   "outputs": [
    {
     "name": "stdout",
     "output_type": "stream",
     "text": [
      "CPU times: user 25.8 s, sys: 652 ms, total: 26.5 s\n",
      "Wall time: 6.7 s\n"
     ]
    }
   ],
   "source": [
    "%%time \n",
    "\n",
    "# Store\n",
    "from langchain_community.vectorstores import Annoy\n",
    "docsearch = Annoy.from_documents(docs, embeddings)"
   ]
  },
  {
   "cell_type": "code",
   "execution_count": 27,
   "metadata": {},
   "outputs": [
    {
     "name": "stdout",
     "output_type": "stream",
     "text": [
      "CPU times: user 9.45 s, sys: 104 ms, total: 9.55 s\n",
      "Wall time: 2.57 s\n"
     ]
    },
    {
     "data": {
      "text/plain": [
       "[Document(page_content=\"The chatbots are in their respective folders with an application launcher `autorun.sh` to install each of them without specific knowledge.  \\nOn Mac, open the terminal and type:\\n```shell\\ncd\\n```\\nDrag the **`folder`** containing the file `autorun.sh`, then press the Enter key (↩︎).  \\n_If you have done it correctly, the **`~`** between your machine's name (`name@MacBook-Pro-of-Name`) and the **`%`** sign should display the name of the `folder` instead._  \\nExecute the following line of code by pressing the Enter key (↩︎):\\n```shell\\nsh autorun.sh\\n```\\nWait a moment, the model should open in your default web browser.\", metadata={'Header 1': 'Onboarding Bot Model', 'Header 2': 'Installation'}),\n",
       " Document(page_content='The [Dev Launchers](https://devlaunchers.org) website is a community of aspiring developers eager to learn and gain experience. As such, projects are open-source and ambitious, allowing members to enhance their skills.  \\nThe [ChatBot](https://en.wikipedia.org/wiki/Chatbot) project is valuable to this international community working across different time zones. To integrate a new member, it is crucial to be able to address their questions. This becomes challenging when the part of the community capable of responding is located 12 time zones away from the new member. Therefore, it was essential to have a service capable of answering questions, even in the middle of the night.', metadata={'Header 1': 'Onboarding Bot Model', 'Header 2': 'Overview'}),\n",
       " Document(page_content='* [ChatBot Llama](https://blog.streamlit.io/how-to-build-a-llama-2-chatbot/)\\n* [ChatBot Llama Exemple](https://llama2.streamlit.app)  \\n* [ChatBot Streamlit](https://github.com/streamlit/llm-examples/tree/main)\\n* [ChatBot Streamlit Exemple](https://llm-examples.streamlit.app)  \\n* [ChatGPT API](https://platform.openai.com/docs/introduction)\\n* [fine-tuning Chat-GPT](https://platform.openai.com/docs/guides/fine-tuning)  \\n* LangChain :\\n* [Hugging Face](https://python.langchain.com/docs/integrations/platforms/huggingface)\\n* [Hugging Face Tool](https://python.langchain.com/docs/integrations/tools/huggingface_tools)  \\n* [Docs GitHub](https://python.langchain.com/docs/integrations/document_loaders/github)\\n* [Docs Source Code](https://python.langchain.com/docs/integrations/document_loaders/source_code)  \\n* [subtitles](https://python.langchain.com/docs/integrations/document_loaders/imsdb)', metadata={'Header 1': 'Onboarding Bot Model', 'Header 2': 'External Help links'}),\n",
       " Document(page_content=\"1. make sure your file structure looks like this\\n```\\n├── plaform__api\\n├── platform__dev-env\\n├── project__discord-bot\\n```\\n2. Make sure to add all the env var to the `api.env.example`. After adding all the env var,\\nmake sure to remove .example from `api.env.example`. It should look like this `api.env`.\\nIf you don't know the env var, just ask in the backend-chat channel on discord and someone\\nshould send you all the env vars.\", metadata={'Header 1': 'Setup'})]"
      ]
     },
     "execution_count": 27,
     "metadata": {},
     "output_type": "execute_result"
    }
   ],
   "source": [
    "%%time\n",
    "for i in range(repeat):\n",
    "    docsearch.similarity_search(query)\n",
    "\n",
    "docsearch.similarity_search(query)"
   ]
  },
  {
   "cell_type": "markdown",
   "metadata": {},
   "source": [
    "## AwaDB\n",
    "! Look transformers, sentence_transformers and huggingface old versions"
   ]
  },
  {
   "cell_type": "markdown",
   "metadata": {},
   "source": [
    "## Chroma"
   ]
  },
  {
   "cell_type": "code",
   "execution_count": 28,
   "metadata": {},
   "outputs": [
    {
     "name": "stdout",
     "output_type": "stream",
     "text": [
      "CPU times: user 21.9 s, sys: 463 ms, total: 22.4 s\n",
      "Wall time: 5.22 s\n"
     ]
    }
   ],
   "source": [
    "%%time \n",
    "\n",
    "# Store\n",
    "from langchain_community.vectorstores import Chroma\n",
    "docsearch = Chroma.from_documents(docs, embeddings)"
   ]
  },
  {
   "cell_type": "code",
   "execution_count": 29,
   "metadata": {},
   "outputs": [
    {
     "name": "stdout",
     "output_type": "stream",
     "text": [
      "CPU times: user 11 s, sys: 150 ms, total: 11.1 s\n",
      "Wall time: 3.15 s\n"
     ]
    },
    {
     "data": {
      "text/plain": [
       "[Document(page_content=\"The chatbots are in their respective folders with an application launcher `autorun.sh` to install each of them without specific knowledge.  \\nOn Mac, open the terminal and type:\\n```shell\\ncd\\n```\\nDrag the **`folder`** containing the file `autorun.sh`, then press the Enter key (↩︎).  \\n_If you have done it correctly, the **`~`** between your machine's name (`name@MacBook-Pro-of-Name`) and the **`%`** sign should display the name of the `folder` instead._  \\nExecute the following line of code by pressing the Enter key (↩︎):\\n```shell\\nsh autorun.sh\\n```\\nWait a moment, the model should open in your default web browser.\", metadata={'Header 1': 'Onboarding Bot Model', 'Header 2': 'Installation'}),\n",
       " Document(page_content=\"The chatbots are in their respective folders with an application launcher `autorun.sh` to install each of them without specific knowledge.  \\nOn Mac, open the terminal and type:\\n```shell\\ncd\\n```\\nDrag the **`folder`** containing the file `autorun.sh`, then press the Enter key (↩︎).  \\n_If you have done it correctly, the **`~`** between your machine's name (`name@MacBook-Pro-of-Name`) and the **`%`** sign should display the name of the `folder` instead._  \\nExecute the following line of code by pressing the Enter key (↩︎):\\n```shell\\nsh autorun.sh\\n```\\nWait a moment, the model should open in your default web browser.\", metadata={'Header 1': 'Onboarding Bot Model', 'Header 2': 'Installation'}),\n",
       " Document(page_content='The [Dev Launchers](https://devlaunchers.org) website is a community of aspiring developers eager to learn and gain experience. As such, projects are open-source and ambitious, allowing members to enhance their skills.  \\nThe [ChatBot](https://en.wikipedia.org/wiki/Chatbot) project is valuable to this international community working across different time zones. To integrate a new member, it is crucial to be able to address their questions. This becomes challenging when the part of the community capable of responding is located 12 time zones away from the new member. Therefore, it was essential to have a service capable of answering questions, even in the middle of the night.', metadata={'Header 1': 'Onboarding Bot Model', 'Header 2': 'Overview'}),\n",
       " Document(page_content='The [Dev Launchers](https://devlaunchers.org) website is a community of aspiring developers eager to learn and gain experience. As such, projects are open-source and ambitious, allowing members to enhance their skills.  \\nThe [ChatBot](https://en.wikipedia.org/wiki/Chatbot) project is valuable to this international community working across different time zones. To integrate a new member, it is crucial to be able to address their questions. This becomes challenging when the part of the community capable of responding is located 12 time zones away from the new member. Therefore, it was essential to have a service capable of answering questions, even in the middle of the night.', metadata={'Header 1': 'Onboarding Bot Model', 'Header 2': 'Overview'})]"
      ]
     },
     "execution_count": 29,
     "metadata": {},
     "output_type": "execute_result"
    }
   ],
   "source": [
    "%%time\n",
    "for i in range(repeat):\n",
    "    docsearch.similarity_search(query)\n",
    "\n",
    "docsearch.similarity_search(query)"
   ]
  },
  {
   "cell_type": "markdown",
   "metadata": {},
   "source": [
    "## FAISS"
   ]
  },
  {
   "cell_type": "code",
   "execution_count": 30,
   "metadata": {},
   "outputs": [
    {
     "name": "stdout",
     "output_type": "stream",
     "text": [
      "CPU times: user 23.3 s, sys: 536 ms, total: 23.8 s\n",
      "Wall time: 5.73 s\n"
     ]
    }
   ],
   "source": [
    "%%time \n",
    "\n",
    "# Store\n",
    "from langchain_community.vectorstores import FAISS\n",
    "docsearch = FAISS.from_documents(docs, embeddings)"
   ]
  },
  {
   "cell_type": "code",
   "execution_count": 31,
   "metadata": {},
   "outputs": [
    {
     "name": "stdout",
     "output_type": "stream",
     "text": [
      "CPU times: user 9.49 s, sys: 107 ms, total: 9.59 s\n",
      "Wall time: 2.47 s\n"
     ]
    },
    {
     "data": {
      "text/plain": [
       "[Document(page_content=\"The chatbots are in their respective folders with an application launcher `autorun.sh` to install each of them without specific knowledge.  \\nOn Mac, open the terminal and type:\\n```shell\\ncd\\n```\\nDrag the **`folder`** containing the file `autorun.sh`, then press the Enter key (↩︎).  \\n_If you have done it correctly, the **`~`** between your machine's name (`name@MacBook-Pro-of-Name`) and the **`%`** sign should display the name of the `folder` instead._  \\nExecute the following line of code by pressing the Enter key (↩︎):\\n```shell\\nsh autorun.sh\\n```\\nWait a moment, the model should open in your default web browser.\", metadata={'Header 1': 'Onboarding Bot Model', 'Header 2': 'Installation'}),\n",
       " Document(page_content='The [Dev Launchers](https://devlaunchers.org) website is a community of aspiring developers eager to learn and gain experience. As such, projects are open-source and ambitious, allowing members to enhance their skills.  \\nThe [ChatBot](https://en.wikipedia.org/wiki/Chatbot) project is valuable to this international community working across different time zones. To integrate a new member, it is crucial to be able to address their questions. This becomes challenging when the part of the community capable of responding is located 12 time zones away from the new member. Therefore, it was essential to have a service capable of answering questions, even in the middle of the night.', metadata={'Header 1': 'Onboarding Bot Model', 'Header 2': 'Overview'}),\n",
       " Document(page_content='* [ChatBot Llama](https://blog.streamlit.io/how-to-build-a-llama-2-chatbot/)\\n* [ChatBot Llama Exemple](https://llama2.streamlit.app)  \\n* [ChatBot Streamlit](https://github.com/streamlit/llm-examples/tree/main)\\n* [ChatBot Streamlit Exemple](https://llm-examples.streamlit.app)  \\n* [ChatGPT API](https://platform.openai.com/docs/introduction)\\n* [fine-tuning Chat-GPT](https://platform.openai.com/docs/guides/fine-tuning)  \\n* LangChain :\\n* [Hugging Face](https://python.langchain.com/docs/integrations/platforms/huggingface)\\n* [Hugging Face Tool](https://python.langchain.com/docs/integrations/tools/huggingface_tools)  \\n* [Docs GitHub](https://python.langchain.com/docs/integrations/document_loaders/github)\\n* [Docs Source Code](https://python.langchain.com/docs/integrations/document_loaders/source_code)  \\n* [subtitles](https://python.langchain.com/docs/integrations/document_loaders/imsdb)', metadata={'Header 1': 'Onboarding Bot Model', 'Header 2': 'External Help links'}),\n",
       " Document(page_content=\"1. make sure your file structure looks like this\\n```\\n├── plaform__api\\n├── platform__dev-env\\n├── project__discord-bot\\n```\\n2. Make sure to add all the env var to the `api.env.example`. After adding all the env var,\\nmake sure to remove .example from `api.env.example`. It should look like this `api.env`.\\nIf you don't know the env var, just ask in the backend-chat channel on discord and someone\\nshould send you all the env vars.\", metadata={'Header 1': 'Setup'})]"
      ]
     },
     "execution_count": 31,
     "metadata": {},
     "output_type": "execute_result"
    }
   ],
   "source": [
    "%%time\n",
    "for i in range(repeat):\n",
    "    docsearch.similarity_search(query)\n",
    "\n",
    "docsearch.similarity_search(query)"
   ]
  },
  {
   "cell_type": "markdown",
   "metadata": {},
   "source": [
    "## LanceDB"
   ]
  },
  {
   "cell_type": "code",
   "execution_count": 32,
   "metadata": {},
   "outputs": [
    {
     "name": "stdout",
     "output_type": "stream",
     "text": [
      "CPU times: user 20.4 s, sys: 413 ms, total: 20.8 s\n",
      "Wall time: 4.69 s\n"
     ]
    }
   ],
   "source": [
    "%%time \n",
    "\n",
    "# Store\n",
    "from langchain.vectorstores import LanceDB\n",
    "docsearch = LanceDB.from_documents(docs, embeddings)"
   ]
  },
  {
   "cell_type": "code",
   "execution_count": 33,
   "metadata": {},
   "outputs": [
    {
     "name": "stdout",
     "output_type": "stream",
     "text": [
      "CPU times: user 12.3 s, sys: 299 ms, total: 12.6 s\n",
      "Wall time: 3.83 s\n"
     ]
    },
    {
     "data": {
      "text/plain": [
       "[Document(page_content=\"The chatbots are in their respective folders with an application launcher `autorun.sh` to install each of them without specific knowledge.  \\nOn Mac, open the terminal and type:\\n```shell\\ncd\\n```\\nDrag the **`folder`** containing the file `autorun.sh`, then press the Enter key (↩︎).  \\n_If you have done it correctly, the **`~`** between your machine's name (`name@MacBook-Pro-of-Name`) and the **`%`** sign should display the name of the `folder` instead._  \\nExecute the following line of code by pressing the Enter key (↩︎):\\n```shell\\nsh autorun.sh\\n```\\nWait a moment, the model should open in your default web browser.\", metadata={'vector': [-0.00478768115863204, -0.04618072137236595, 0.02846730872988701, -0.03609825298190117, 0.03550594300031662, -0.03747408464550972, -0.037277232855558395, 0.04082599654793739, 0.046806637197732925, 0.020041460171341896, 0.04236359894275665, -0.03443154692649841, 0.02185412310063839, 0.03714746609330177, 0.09091991931200027, 0.020207537338137627, 0.0497671514749527, -0.09507771581411362, 0.019208377227187157, 0.020823480561375618, 0.032784603536129, 0.006851028185337782, 0.03371531516313553, -0.0496121421456337, -0.0050801909528672695, -0.0024605649523437023, 0.0328621007502079, 0.020180778577923775, -0.05873139575123787, -0.005807996727526188, 0.004540803376585245, -0.02069934830069542, 0.06740643829107285, 0.013912289403378963, 0.11359802633523941, -0.0008580106659792364, 0.016594398766756058, 0.03805055469274521, -0.009703140705823898, -0.028833305463194847, -0.010819191113114357, -0.0395316407084465, 0.0020321239717304707, -0.025926267728209496, 0.035465046763420105, -0.0880328118801117, -0.08236848562955856, -0.05002611130475998, 0.07738928496837616, 0.06376640498638153, -0.0983642190694809, -0.05790479853749275, 0.05167295038700104, 0.06163991987705231, -0.028415055945515633, 0.061357829719781876, -0.027700768783688545, 0.031599827110767365, 0.10737619549036026, -0.0024024713784456253, 0.020731214433908463, -0.0329132042825222, -0.010760794393718243, 0.001531294547021389, -0.03585505485534668, -0.040856584906578064, -0.01694977469742298, -0.05905710160732269, 0.002282635774463415, 0.014197624288499355, 0.024719830602407455, -0.028426015749573708, -0.003501634346321225, -0.015439161099493504, -0.05638417601585388, -0.04446124657988548, 0.055944789201021194, -0.006545455660670996, -0.03300051391124725, 0.04512476548552513, -0.12364450842142105, -0.0439186654984951, 0.041428472846746445, 0.018627531826496124, -0.017809119075536728, 0.0772537812590599, 0.027319956570863724, 0.0102987140417099, -0.0015381621196866035, 0.029429897665977478, -0.047907643020153046, -0.14602576196193695, 0.002272476442158222, 0.050881367176771164, -0.04917053133249283, -0.037281960248947144, 0.0654013380408287, 0.12117892503738403, 0.026469342410564423, 0.04231756553053856, -0.010805539786815643, -0.06736300885677338, 0.039846304804086685, -0.07339642196893692, 0.019020330160856247, 0.00017196223780047148, 0.02482542395591736, -0.021376581862568855, 0.09923462569713593, -0.038550637662410736, -0.11356519162654877, -0.08886644244194031, 0.04268478602170944, 0.06968875229358673, 0.03946392983198166, 0.016162650659680367, 0.002518994500860572, 0.031081007793545723, 0.01297516655176878, 0.028210481628775597, 0.10894296318292618, -0.04924960061907768, 0.05173984915018082, -0.045737165957689285, 0.08726343512535095, 0.03206735849380493, -0.031539104878902435, 3.2873831393235417e-34, 0.05670798197388649, -0.09208658337593079, -0.007472183555364609, 0.10842796415090561, 0.03983401507139206, -0.0443916879594326, -0.029315253719687462, 0.0002791506121866405, -0.07019168883562088, 0.033942729234695435, -0.025274036452174187, 0.0421217679977417, -0.04953088238835335, 0.042657602578401566, -0.01791469007730484, -0.05768102779984474, -0.006668298505246639, -0.008728141896426678, 0.020900163799524307, -0.043372295796871185, 0.06614191830158234, 0.031077682971954346, 0.022277146577835083, 0.07687806338071823, 0.04692554846405983, 0.124830462038517, 0.07322952896356583, -0.036711301654577255, 0.06535179913043976, 0.05232783779501915, -0.05769862234592438, -0.02018100768327713, -0.07335293292999268, 0.01734618842601776, 0.012412654235959053, -0.020842356607317924, -0.023769572377204895, 0.028491036966443062, -0.04949994385242462, -0.00775445532053709, -0.01137950737029314, -0.037882719188928604, -0.05458125099539757, -0.11116449534893036, 0.017495041713118553, -0.05843473970890045, -0.04951793700456619, 0.016938772052526474, 0.05258898064494133, -0.002681514946743846, -0.060595884919166565, -0.03135640174150467, 0.09175112098455429, 0.09179855138063431, -0.0012672041775658727, -0.10312139987945557, -0.02751890756189823, -0.06001272052526474, 0.011457979679107666, -0.057054441422224045, 0.016305942088365555, -0.0013915376039221883, 0.009029481559991837, 0.025996586307883263, 0.09412715584039688, -0.06291325390338898, 0.04163888841867447, 0.01909801922738552, -0.01279751118272543, 0.05515789985656738, -0.030383221805095673, -0.010951075702905655, 0.018544882535934448, 0.015469694510102272, -0.03669511526823044, -0.031192291527986526, -0.05450574308633804, 0.01820685900747776, -0.08543048053979874, 0.01613042689859867, -0.008699577301740646, -0.03502936661243439, -0.04933576658368111, -0.08096799999475479, 0.010275972075760365, -0.024843459948897362, 0.03537680208683014, -0.013472960330545902, -0.004540926776826382, -0.007847743108868599, -0.03155645355582237, 0.024807121604681015, -0.06452755630016327, 0.027979929000139236, -0.08462084829807281, -2.888507921800044e-33, 0.027165578678250313, 0.001675562234595418, -0.020775198936462402, -0.0068062241189181805, -0.0006466907798312604, 0.044832367449998856, 0.01816740818321705, 0.00014753131836187094, -0.0404585562646389, -0.039881620556116104, -0.06667768210172653, 0.021568279713392258, 0.040680184960365295, -0.005377126857638359, 0.08648470044136047, 0.08297378569841385, 0.004617234226316214, -0.07728917896747589, -0.03930213674902916, -0.0915079340338707, -0.06585296243429184, -0.005555388983339071, -0.03953885659575462, 0.014221036806702614, 0.011383176781237125, -0.06127025932073593, 0.03678080812096596, 0.0971420630812645, -0.04228173568844795, 0.011841355822980404, -0.020946454256772995, 0.0682850331068039, -0.05866899713873863, 0.015168731100857258, 0.04467865079641342, 0.04617483913898468, -0.001966890413314104, 0.01428799144923687, 0.02243134193122387, -0.0662950724363327, 0.10952597856521606, -0.07626964896917343, -0.17709386348724365, -0.04877835139632225, 0.052733827382326126, 0.015601607039570808, -0.0687473937869072, -0.06866465508937836, -0.059286728501319885, -0.012439453974366188, 0.06273052096366882, -0.07580598443746567, 0.12095849215984344, -0.12277910113334656, -0.04014594480395317, -0.011844879016280174, 0.016537286341190338, 0.009661484509706497, 0.011244441382586956, 0.014769847504794598, -0.039814356714487076, -0.05646941810846329, 0.0436277762055397, -0.05688474699854851, -0.09713075309991837, -0.04837924614548683, -0.055184513330459595, 0.07388220727443695, 0.0017961664125323296, -0.03721143677830696, 0.01711786724627018, 0.0738539844751358, 0.014398524537682533, 0.013539126142859459, 0.04874614626169205, 0.005941650364547968, -0.02975981868803501, -0.008939494378864765, 0.009687972255051136, -0.0011980434646829963, 0.016961660236120224, 0.04659789055585861, 0.0651438906788826, 0.05065852031111717, -0.07102706283330917, 0.04114672169089317, 0.021273896098136902, 0.0779394656419754, -0.04616532847285271, -0.00539142731577158, 0.021264400333166122, 0.04178651049733162, 0.08344372361898422, 0.08374433219432831, -0.04894592985510826, -4.910094020260658e-08, -0.017491698265075684, -0.06919115036725998, 0.031054796651005745, 0.04147084802389145, 0.04637114703655243, 0.04108641296625137, -0.015484176576137543, 0.025484606623649597, 0.0333678275346756, 0.05383623018860817, 0.05067504942417145, -0.016685664653778076, 0.009333574213087559, 0.05756239593029022, -0.020454062148928642, 0.05006204545497894, -0.03409968689084053, 0.06416826695203781, 0.04391654208302498, -0.05959779769182205, 0.07191117852926254, -0.035268090665340424, 0.04472416266798973, 0.06546390056610107, 0.009500068612396717, -0.049404438585042953, -0.044938646256923676, 0.011775198392570019, -0.17565326392650604, 0.03423396870493889, -0.1453906148672104, 0.020739994943141937, -0.05004606395959854, -0.01597393862903118, 0.041646808385849, -0.02130463533103466, -0.04610041528940201, -0.049481842666864395, 0.00022715699742548168, -0.03877628594636917, 0.06262524425983429, 0.0022177891805768013, -0.02390623278915882, -0.09760341048240662, -0.07503353804349899, -0.03155991807579994, -0.007917107082903385, -0.06567133218050003, -0.03296047821640968, -0.03671983629465103, -0.001109412289224565, 0.04445800930261612, -0.006435080897063017, 0.0610494427382946, -0.0014514981303364038, 0.01141607016324997, 0.0495719350874424, -0.05568375810980797, -0.035623934119939804, -0.018159274011850357, -0.03085433319211006, 0.09687358886003494, 0.014939235523343086, -0.014671843498945236], 'id': '7194bf04-b2a7-4f06-81b7-0a75a0d83040', '_distance': 0.5013746619224548}),\n",
       " Document(page_content='The [Dev Launchers](https://devlaunchers.org) website is a community of aspiring developers eager to learn and gain experience. As such, projects are open-source and ambitious, allowing members to enhance their skills.  \\nThe [ChatBot](https://en.wikipedia.org/wiki/Chatbot) project is valuable to this international community working across different time zones. To integrate a new member, it is crucial to be able to address their questions. This becomes challenging when the part of the community capable of responding is located 12 time zones away from the new member. Therefore, it was essential to have a service capable of answering questions, even in the middle of the night.', metadata={'vector': [-0.05441022291779518, -0.04473050311207771, 0.05495123192667961, -0.030147982761263847, 0.012784171849489212, -0.07468511164188385, 0.02497352845966816, 0.034794606268405914, 0.017919963225722313, -0.02783934213221073, -0.08951444923877716, 0.021892549470067024, -0.05275554955005646, 0.02614320069551468, 0.13062506914138794, 0.018009956926107407, 0.08334489166736603, -0.10270491242408752, 0.014330142177641392, -0.07053989917039871, 0.01607409678399563, -0.014432285912334919, 0.06393368542194366, 0.021094370633363724, 0.03871209919452667, 0.007388052064925432, 0.017428986728191376, -0.005501719191670418, 0.02517465129494667, -0.009880288504064083, -0.04228818789124489, 0.06416036188602448, 0.0011673637200146914, 0.049602627754211426, 0.022201845422387123, 0.052535198628902435, 0.06550373136997223, 0.00988581869751215, -0.03373885899782181, -0.020352177321910858, -0.02548239380121231, -0.07532182335853577, -0.005281195975840092, 0.023339226841926575, -0.039509017020463943, -0.035263676196336746, -0.05126269534230232, -0.009302760474383831, 0.0002455296053085476, 0.06725293397903442, 0.033559367060661316, -0.0850505605340004, 0.03474302962422371, -0.002905346918851137, -0.027156151831150055, 0.06449951976537704, -0.033390071243047714, 0.08801110088825226, 0.08400920778512955, 0.02089238539338112, -0.014194438233971596, 0.012455112300813198, -0.009179223328828812, 0.02478511445224285, 0.040551070123910904, -0.05636482313275337, -0.071499764919281, 0.0315682627260685, 0.04248920455574989, -0.06100181117653847, -0.04145006462931633, 0.04686075448989868, -0.0022827719803899527, -0.005764881148934364, -0.028573008254170418, -0.018701495602726936, 0.017514964565634727, -0.011743270792067051, 0.0584823377430439, 0.001973863458260894, -0.007062324322760105, 0.0011900401441380382, 0.029214562848210335, 0.057020287960767746, 0.033749330788850784, -0.0030922081787139177, 0.04886876046657562, 0.09778755903244019, 0.03986053541302681, 0.013183940201997757, -0.04336337745189667, -0.041755493730306625, 0.04246034100651741, 0.04424275830388069, -0.03003806062042713, -0.05336423218250275, 0.04551888629794121, 0.015525300987064838, -0.03552677109837532, 0.06741665303707123, 0.013184396550059319, 0.003082574112340808, -0.024394212290644646, -0.05526604875922203, 0.01405932568013668, 0.04810531064867973, -0.06040092557668686, 0.03525419533252716, 0.04268992319703102, 0.017807193100452423, -0.0863460972905159, -0.05453060567378998, 0.07277066260576248, -0.017907695844769478, 0.03411625698208809, -0.03216852620244026, -0.044354889541864395, 0.05075589567422867, 0.050847720354795456, 0.003636980662122369, 0.060959432274103165, 0.012695216573774815, 0.01968592219054699, -0.09465323388576508, 0.06445904076099396, 0.030004989355802536, 0.004854572005569935, 1.7087029505413446e-34, 0.09290695935487747, -0.01841430924832821, -0.060616083443164825, 0.07014711201190948, 0.04534804821014404, 0.004550876561552286, -0.015306597575545311, 0.07166853547096252, -0.07446043938398361, -0.02913953922688961, 0.011746243573725224, 0.017512068152427673, -0.0285613015294075, -0.000687231367919594, 0.06309013813734055, -0.09135062247514725, 0.014289290644228458, 0.008993235416710377, 0.06659857928752899, -0.03223242610692978, -0.009365063160657883, -0.03856539726257324, 0.00772577291354537, 0.08660836517810822, 0.08026472479104996, 0.04982806369662285, 0.034547168761491776, 0.006968284957110882, 0.04008068889379501, 0.03140914812684059, -0.029168754816055298, -0.02448762021958828, -0.0851328894495964, 0.05482218414545059, 0.10434968769550323, 0.011327753774821758, 0.009098025038838387, -0.08848977833986282, -0.06289735436439514, -0.026119373738765717, -0.06534494459629059, -0.04399370402097702, -0.11387475579977036, -0.0516754686832428, 0.03734072670340538, -0.02557976171374321, -0.0016101837391033769, -0.08083821833133698, 0.06573595851659775, 0.012847719714045525, -0.08556687086820602, 0.077824167907238, -0.011549961753189564, -0.03653358668088913, 0.05622753128409386, -0.09803346544504166, -0.04442564398050308, -0.04583149403333664, -0.0181977991014719, -0.024206943809986115, -0.01709485799074173, -0.028165536001324654, -0.03390791639685631, -0.02384708635509014, 0.012702877633273602, -0.03858014568686485, 0.03866839408874512, 0.037441905587911606, 0.0917806327342987, -0.015697672963142395, 0.05705871805548668, 0.02844136953353882, 0.0661449059844017, -0.0020739100873470306, -0.12352736294269562, 0.07240729033946991, 0.014461108483374119, 0.04151802882552147, 0.015475692227482796, 0.030493488535284996, 0.07210339605808258, -0.0811610221862793, -0.0561608225107193, -0.08021474629640579, 0.08337288349866867, -0.05196310207247734, 0.0650809183716774, -0.03445868939161301, -0.09840038418769836, 0.04658445715904236, -0.11463792622089386, -0.018787868320941925, -0.008750473149120808, 0.05882583186030388, -0.049761347472667694, -7.602211248580631e-34, 0.039646461606025696, -0.07695125043392181, -0.11608709394931793, 0.03948098048567772, 0.0042056795209646225, -0.028005525469779968, 0.009058287367224693, 0.035831764340400696, 0.018168287351727486, 0.10140682011842728, -0.10542906075716019, 0.022150186821818352, 0.041052207350730896, -0.01466108113527298, 0.019414225593209267, -0.008365816436707973, 0.03224092349410057, -0.048127442598342896, -0.030939944088459015, 0.014216591604053974, -0.0318349227309227, 0.05814700946211815, -0.09718702733516693, -0.055317703634500504, 0.06398452818393707, 0.01831153593957424, -0.02065248228609562, -0.0033909224439412355, -0.107152059674263, -0.029446791857481003, -0.017187170684337616, 0.0022884535137563944, -0.03395681828260422, -0.036301396787166595, -0.0033341343514621258, 0.0824955627322197, 0.034587543457746506, -0.0366237573325634, -0.028696591034531593, -0.02561698667705059, 0.08702460676431656, -0.021724384278059006, -0.05263481289148331, -0.08025805652141571, -0.07442516833543777, 0.06966046243906021, -0.08142618089914322, 0.01624949276447296, -0.13123837113380432, 0.036905668675899506, 0.07857716083526611, -0.08702312409877777, 0.08955837041139603, -0.10738802701234818, 0.0048449658788740635, -0.025408493354916573, 0.03147020936012268, -0.04179864376783371, 0.01590491086244583, 0.06999644637107849, 0.07837948948144913, -0.06476639956235886, 0.044452667236328125, 0.0482713021337986, 0.01595049351453781, -0.056871816515922546, 0.02264321781694889, 0.14350789785385132, -0.018037842586636543, -0.016974851489067078, 0.11211860924959183, -0.04074946045875549, -0.017666785046458244, 0.032179977744817734, -0.008148930966854095, -0.018515603616833687, 0.04677277058362961, 0.020442074164748192, -0.07569225132465363, -0.06456290185451508, -0.07346988469362259, -0.016504867002367973, 0.01973370648920536, 0.02965838834643364, 0.012686553411185741, 0.041011225432157516, 0.028730208054184914, 0.04172547906637192, 0.023256422951817513, 0.020816395059227943, -0.020184630528092384, 0.017263365909457207, -0.07329409569501877, 0.1071285828948021, -0.0016623811097815633, -5.3805969457698666e-08, 0.00205288827419281, 0.011780896224081516, -0.09292712062597275, 0.03632710501551628, -0.009277554228901863, -0.06609486043453217, -0.040543898940086365, 0.01634802110493183, 0.03424259275197983, 0.07425398379564285, 0.06357331573963165, -0.04695127531886101, -0.0023199869319796562, 0.03242098540067673, 0.10626336187124252, -0.025406405329704285, -0.01573927327990532, -0.004715314134955406, -0.04173753410577774, -0.11319006979465485, 0.08105924725532532, 0.021206406876444817, 0.022684331983327866, 0.03286135941743851, -0.04196655750274658, 0.04115639626979828, -0.07097277045249939, 0.059335045516490936, -0.041049741208553314, 0.026894237846136093, -0.029923221096396446, 0.04355323687195778, -0.021533465012907982, -0.04580475762486458, 0.03626612201333046, -0.0004405730578582734, -0.06904637068510056, -0.05432124063372612, -0.035593897104263306, 0.049855608493089676, 0.013735867105424404, -0.014565815217792988, 0.004070852883160114, 0.006405622232705355, -0.057704366743564606, 0.02260744571685791, -0.036961041390895844, -0.05411326140165329, -0.054144423454999924, -0.06332708895206451, -0.07476599514484406, 0.019095903262495995, 0.026821449398994446, 0.02662418782711029, 0.07406251132488251, 0.0446627251803875, 0.05529014393687248, -0.00299704703502357, -0.01480372715741396, 0.02303871512413025, -0.023944536224007607, 0.11894727498292923, -0.043832339346408844, -0.018795546144247055], 'id': '0f5cc9ac-cc2d-4c4c-b12b-8e381e006864', '_distance': 0.9758407473564148}),\n",
       " Document(page_content='* [ChatBot Llama](https://blog.streamlit.io/how-to-build-a-llama-2-chatbot/)\\n* [ChatBot Llama Exemple](https://llama2.streamlit.app)  \\n* [ChatBot Streamlit](https://github.com/streamlit/llm-examples/tree/main)\\n* [ChatBot Streamlit Exemple](https://llm-examples.streamlit.app)  \\n* [ChatGPT API](https://platform.openai.com/docs/introduction)\\n* [fine-tuning Chat-GPT](https://platform.openai.com/docs/guides/fine-tuning)  \\n* LangChain :\\n* [Hugging Face](https://python.langchain.com/docs/integrations/platforms/huggingface)\\n* [Hugging Face Tool](https://python.langchain.com/docs/integrations/tools/huggingface_tools)  \\n* [Docs GitHub](https://python.langchain.com/docs/integrations/document_loaders/github)\\n* [Docs Source Code](https://python.langchain.com/docs/integrations/document_loaders/source_code)  \\n* [subtitles](https://python.langchain.com/docs/integrations/document_loaders/imsdb)', metadata={'vector': [-0.12289327383041382, -0.01088282186537981, -0.006560174748301506, -0.020536132156848907, 0.05137291178107262, -0.09895578771829605, -0.014524446800351143, 0.002493914682418108, -0.009465986862778664, -0.006674814037978649, 0.009840261191129684, -0.04252631962299347, -0.0239035002887249, 0.030133826658129692, 0.10552196949720383, 0.062182240188121796, -0.009752719663083553, 0.03584358096122742, 0.02221508137881756, -0.06939324736595154, 0.0492122508585453, 0.015384212136268616, 0.13427336513996124, -0.018126392737030983, 0.047976892441511154, -0.005933922249823809, -0.012066494673490524, 0.006178954616189003, 0.018668320029973984, -0.028374677523970604, 0.034692201763391495, 0.04597858339548111, -0.00862894393503666, -0.010099359788000584, -0.02507695183157921, 0.08676017075777054, 0.04212738201022148, 0.008849333971738815, -0.13130410015583038, 0.013382221572101116, 0.023094555363059044, 0.024794500321149826, 0.008984554558992386, -0.034909289330244064, -0.019370155408978462, -0.01599700376391411, -0.0558953694999218, 0.004049858544021845, -0.050904713571071625, 0.03623412549495697, -0.08868856728076935, -0.08742713183164597, -0.017117025330662727, 0.07176963239908218, 0.011880477890372276, 0.027377475053071976, -0.034681741148233414, -0.019065959379076958, 0.0610785111784935, -0.04022883251309395, 0.059405501931905746, 0.006308382377028465, -0.05808929726481438, -0.007194038946181536, -0.03952677175402641, 0.027614645659923553, -0.00048443168634548783, 0.06816542148590088, 0.06954251974821091, -0.055306896567344666, -0.054543737322092056, 0.007863440550863743, -0.07390710711479187, 0.015225565060973167, -0.06445646286010742, -6.860114081064239e-05, 0.01350630447268486, -0.008626116439700127, -0.07647839933633804, -0.045472756028175354, -0.03087947517633438, -0.002556153340265155, 0.052647702395915985, 0.033076975494623184, 0.0008726404630579054, 0.015079176053404808, 0.028333887457847595, 0.04317818954586983, 0.04529339447617531, 0.06176550313830376, -0.016157077625393867, -0.013053304515779018, -5.801099177915603e-05, 0.025659801438450813, 0.025666164234280586, 0.02172018215060234, -0.002279844367876649, -0.002006675349548459, -0.0745682567358017, 0.09629596769809723, -0.040108151733875275, -0.09043926000595093, 0.01668897643685341, -0.004644580185413361, 0.023089377209544182, -0.030942851677536964, -0.00833808071911335, 0.04059788957238197, 0.04546455666422844, -0.03348846361041069, -0.04360823333263397, -0.04758443683385849, 0.0010286736069247127, -0.023280704393982887, 0.009437871165573597, 0.04658348858356476, -0.024072278290987015, -0.01958002895116806, 0.030965780839323997, 0.1039944663643837, 0.06943496316671371, -0.06857292354106903, -0.006112094037234783, -0.04423981532454491, 0.04162503406405449, 0.004886731039732695, -0.005400434602051973, 3.529813007557551e-33, 0.144765704870224, -0.05777640640735626, -0.04411245509982109, 0.09010966867208481, 0.10462594032287598, -0.005671332590281963, 0.055260028690099716, -0.00491690170019865, -0.10377062857151031, -0.04874277487397194, -0.08199918270111084, 0.05423114448785782, -0.07081347703933716, 0.009247907437384129, -0.003210959257557988, -0.13110359013080597, -0.038493361324071884, 0.058629993349313736, 0.07545503228902817, 0.010538844391703606, -9.949781815521419e-05, 0.044414810836315155, 0.023436391726136208, 0.006505340803414583, -0.01018084492534399, 0.1220337375998497, 0.05859886109828949, -0.09103722870349884, 0.05103001371026039, 0.055102329701185226, 0.009821505285799503, -0.005857536103576422, -0.02140944078564644, 0.023335902020335197, 0.028301415964961052, -0.025342553853988647, -0.11086961627006531, -0.07930959761142731, -0.04355788975954056, -0.03913788124918938, -0.046136073768138885, -0.005264331586658955, -0.01985974609851837, -0.13195295631885529, -0.051305849105119705, -0.0716341957449913, -0.04116514325141907, 0.04042922332882881, 0.06690030544996262, -0.0017106488812714815, 0.001594172208569944, 0.06368987262248993, -0.060987669974565506, 0.020099090412259102, -0.04430536925792694, -0.07255727797746658, -0.015676025301218033, 0.034388430416584015, 0.020886989310383797, 0.025061359629034996, -0.008724941872060299, 0.0319623202085495, -0.004425078630447388, -0.04900028184056282, 0.05530863255262375, 0.00947919487953186, -0.02217300795018673, -0.005556270945817232, 0.007822150364518166, -0.03788359835743904, -0.02926737628877163, 0.026967398822307587, 0.041067153215408325, 0.02690310962498188, -0.04782988503575325, -0.008139423094689846, 0.00438418984413147, -0.0012010191567242146, -0.03535061329603195, -0.013886185362935066, -0.049014098942279816, 0.007816898636519909, -0.017899585887789726, -0.03374128416180611, -0.04585902765393257, -0.05092005431652069, 0.044267114251852036, -0.08402833342552185, -0.05166557803750038, 0.04474912956357002, -0.05789506062865257, 0.0019495496526360512, 0.009106707759201527, -0.018772603943943977, -0.0153742590919137, -2.8615279387257724e-33, 0.018575578927993774, -0.03452005237340927, -0.0075837369076907635, 0.04774714633822441, 0.0462043359875679, -0.057398609817028046, 0.026692291721701622, 0.0976143404841423, 0.08134203404188156, 0.012136489152908325, -0.0570094920694828, -0.04005242511630058, -0.012529606930911541, -0.02561989054083824, 0.06805724650621414, -0.05430278554558754, 0.027916699647903442, -0.09865478426218033, 0.008377796038985252, 0.004812398925423622, -0.0366097129881382, 0.05585074424743652, -0.06787621974945068, -2.216726352344267e-05, 0.023044021800160408, -0.004201658070087433, 0.03044850192964077, 0.02175622247159481, -0.025220956653356552, -0.04228578135371208, 0.025672955438494682, 0.012149842455983162, -0.13467960059642792, 0.02128995768725872, 0.006303960457444191, 0.02033759281039238, 0.10146703571081161, 0.10881150513887405, -0.033487942069768906, -0.017842724919319153, 0.2055174857378006, 0.0049761394038796425, -0.08072436600923538, -0.030218346044421196, 0.025424504652619362, -0.0035531206522136927, -0.13830143213272095, 0.05615163594484329, -0.054329659789800644, -0.033501893281936646, 0.06345859169960022, -0.04336640238761902, 0.060488659888505936, -0.06713654845952988, 0.007708595599979162, -0.030223997309803963, 0.13239555060863495, -0.022848818451166153, -0.044642698019742966, -0.05178474634885788, -0.027165133506059647, -0.1048378124833107, 0.010385247878730297, -0.01955239474773407, 0.030323384329676628, -0.006469910964369774, -0.038372479379177094, 0.028177237138152122, -0.00617985799908638, -0.04800703749060631, 0.03297088295221329, -0.07490846514701843, 0.02548716589808464, -0.0008448180160485208, 0.07195174694061279, 0.026585832238197327, -0.0053637647069990635, -0.023585950955748558, 0.04226989671587944, -0.03548881784081459, -0.04805983603000641, 0.054032038897275925, 0.04508050158619881, 0.06920941174030304, 0.07387438416481018, 0.05737500637769699, 0.0777614638209343, 0.08485961705446243, 0.05371339991688728, 0.026490330696105957, -0.05907720327377319, 0.06748314946889877, 0.02220728062093258, 0.10359466075897217, 0.06346394866704941, -4.463002767352009e-08, -0.10522668808698654, -0.11812477558851242, -0.1084575280547142, 0.037246111780405045, -0.0418209508061409, 0.044738758355379105, -0.002866236725822091, 0.0447143130004406, 0.02627325989305973, -0.0148836774751544, 0.06883537769317627, 0.008306190371513367, -0.024641236290335655, -0.012005820870399475, -0.009433395229279995, -0.032668400555849075, -0.003021050477400422, 0.0748501867055893, -0.08187682926654816, -0.04036064073443413, -0.006046834401786327, 0.03256490081548691, 0.03292510658502579, 0.03539540246129036, -0.044060006737709045, -0.048720575869083405, 0.02046351134777069, 0.0519389808177948, -0.051747389137744904, -0.06144505739212036, -0.03076484426856041, 0.020398378372192383, 0.026082413271069527, -0.042377881705760956, 0.02536596916615963, 0.04429701715707779, -0.08042987436056137, -0.028770580887794495, 0.008611757308244705, 0.08702044934034348, 0.051015663892030716, 0.003303572768345475, 0.015740614384412766, -0.013894710689783096, 0.04254614934325218, -0.01096655149012804, -0.03493146970868111, -0.047605883330106735, -0.0007129563600756228, -0.0016587895806878805, -0.040724992752075195, -0.016847170889377594, 0.003830792848020792, 0.018523411825299263, 0.03969847410917282, -0.005068289116024971, 0.021908191964030266, -0.08311490714550018, 0.06915898621082306, 0.06055028736591339, 0.05312289670109749, 0.1044984981417656, 0.03607555106282234, 0.06559935212135315], 'id': '2cb2e1cc-35e1-461d-b948-1c61819fa55b', '_distance': 1.0202816724777222}),\n",
       " Document(page_content=\"1. make sure your file structure looks like this\\n```\\n├── plaform__api\\n├── platform__dev-env\\n├── project__discord-bot\\n```\\n2. Make sure to add all the env var to the `api.env.example`. After adding all the env var,\\nmake sure to remove .example from `api.env.example`. It should look like this `api.env`.\\nIf you don't know the env var, just ask in the backend-chat channel on discord and someone\\nshould send you all the env vars.\", metadata={'vector': [0.017428848892450333, -0.10531981289386749, 0.012213209643959999, -0.03586921840906143, 0.0492611899971962, -0.03793751448392868, -0.03202550858259201, 0.036184072494506836, 0.028442801907658577, 0.04497947543859482, -0.002576192608103156, -0.08988209813833237, 0.035093262791633606, 0.03326651081442833, 0.10827285796403885, 0.04300669953227043, -0.007837334647774696, -0.10158785432577133, 0.058328330516815186, -0.03684264048933983, 0.010084815323352814, 0.044988468289375305, 0.02958296798169613, 0.021833738312125206, 0.02355627715587616, -0.10907861590385437, -0.000641152320895344, 0.06681663542985916, -0.013468543998897076, -0.042329784482717514, 0.04115629196166992, 0.016424743458628654, -0.06205643713474274, 0.03005063720047474, 0.07702818512916565, 0.111777164041996, -0.008260544389486313, -0.03507544845342636, -0.012433121912181377, 0.04550837352871895, -0.0054706307128071785, -0.022274861112236977, -0.056306302547454834, -0.03441708907485008, 0.04671316221356392, -0.04321432113647461, 0.034161727875471115, -0.01858869567513466, 0.01947733759880066, 0.0507039874792099, 0.003307813312858343, -0.02699430100619793, -0.021346284076571465, 0.0009142241324298084, -0.010121692903339863, -0.02237238734960556, -0.05439756065607071, 0.09280368685722351, 0.03864533454179764, -0.12247961014509201, -0.01849379390478134, -0.06908120214939117, 0.05423741787672043, -0.05106135457754135, -0.06413500756025314, 0.010602865368127823, -0.0329425223171711, 0.05885784327983856, -0.008730383589863777, -0.018278392031788826, 0.012193823233246803, 0.004417133517563343, -0.09166466444730759, -0.07240553945302963, -0.03791922330856323, 0.011181233450770378, -0.026810498908162117, 0.03635972738265991, 0.02651505172252655, -0.023331603035330772, 0.03195573389530182, 0.025657931342720985, -0.006387801840901375, 0.06743265688419342, -0.011721422895789146, 0.05323737487196922, 0.038189198821783066, -0.011527620255947113, -0.06008405610918999, -0.043480195105075836, 0.07066651433706284, -0.07884183526039124, 0.012197952717542648, 0.06793627142906189, 0.008511303924024105, 0.08911891281604767, -0.05123795196413994, 0.03458105027675629, 0.016141606494784355, 0.07015214115381241, -0.05526214838027954, -0.055875468999147415, -0.03225281089544296, -0.013173181563615799, -0.007585864048451185, 0.021609919145703316, 0.04431547597050667, 0.033357057720422745, 0.03715104982256889, -0.01619618944823742, -0.07015383243560791, 0.029712093994021416, -0.02018478512763977, 0.10558260232210159, 0.06515543162822723, 0.058892786502838135, 0.015155053697526455, -0.020580559968948364, 0.01788218505680561, -0.05178462713956833, 0.07088074833154678, -0.06750862300395966, 0.024267790839076042, 0.059255316853523254, -0.0245895404368639, 0.0016160819213837385, 0.06779010593891144, 3.0040413840706125e-33, 0.0038218647241592407, -0.047895513474941254, -0.023749299347400665, 0.09070830047130585, 0.07590815424919128, 0.001815569237805903, 0.0662381649017334, 0.06328766793012619, -0.11628060042858124, -0.05765233188867569, -0.025638297200202942, 0.022123269736766815, 0.02103542350232601, 0.03722744807600975, -0.05688735470175743, -0.09463465958833694, 0.04716390743851662, 0.010921127162873745, 0.033412620425224304, -0.06975993514060974, -0.020853862166404724, -0.022448565810918808, 0.019468747079372406, 0.08252108097076416, 0.047497376799583435, 0.09062347561120987, 0.019993344321846962, -0.037598609924316406, 0.04496385529637337, -0.03802125155925751, 0.006556105334311724, 0.055022943764925, 0.04510036110877991, 0.054055437445640564, 0.01639704965054989, -0.03206968680024147, -0.03695480152964592, 0.011255715973675251, -0.14050592482089996, 0.03954943269491196, 0.0024638683535158634, -0.0051872096955776215, -0.06882823258638382, -0.10586584359407425, 0.009696226567029953, -0.04261123761534691, -0.0025382782332599163, -0.033632777631282806, 0.010272040031850338, -0.05354690924286842, -0.08093639463186264, 0.07622072100639343, 0.0462719090282917, 0.00862298347055912, 0.114737369120121, -0.11281365901231766, -0.05243095010519028, -0.051916200667619705, -0.059504974633455276, -0.15908637642860413, 0.02934681437909603, 0.01786712557077408, 0.024927543476223946, -0.02715117111802101, 0.052113503217697144, 0.03225567564368248, -0.12390495836734772, 0.0441165491938591, 0.1019371971487999, -0.0012037091655656695, 0.026604630053043365, 0.055239900946617126, -0.03366832062602043, 0.029796073213219643, -0.013188980519771576, -0.07854156196117401, -0.05504484847187996, 0.03702237084507942, 0.016798697412014008, 0.028730982914566994, -0.025325309485197067, -0.03947732597589493, -0.06470043957233429, -0.03880668804049492, 0.041363250464200974, 0.015061148442327976, 0.03784995898604393, -0.008458148688077927, 0.05197813734412193, 0.07408005744218826, -0.04261729493737221, 0.03471415117383003, 0.00905674323439598, 0.014112304896116257, -0.06019860506057739, -3.20192832752086e-33, -0.023446185514330864, 0.012098723091185093, -0.04142216220498085, -0.021860308945178986, 0.002427375176921487, 0.027916990220546722, 0.047774381935596466, 0.023374812677502632, 0.06092070788145065, 0.09591256082057953, -0.020986637100577354, -0.020994042977690697, 0.012064316309988499, -0.06676236540079117, 0.008083716034889221, 0.0624944269657135, -0.04175209999084473, -0.020249640569090843, 0.0019867850933223963, -0.07190179079771042, -0.0975644439458847, 0.06566549092531204, 0.025993749499320984, 0.010694177821278572, 0.03385404124855995, 0.010551313869655132, -0.003141410881653428, 0.03833939880132675, -0.03560243546962738, -0.06224565953016281, 0.03824947401881218, 0.007311083842068911, -0.10527928173542023, 0.053611140698194504, -0.02388656698167324, -0.03305473178625107, 0.019550297409296036, 0.1001865416765213, -0.015680991113185883, -0.12015284597873688, 0.08311739563941956, -0.04352552443742752, -0.1281343698501587, -0.07603254169225693, 0.022708021104335785, 0.01222222950309515, -0.02005363442003727, 0.0055338675156235695, -0.05960073694586754, -0.02697308361530304, 0.0751757025718689, -0.04496786370873451, 0.06446623802185059, -0.05046083778142929, 0.026193760335445404, 0.011545094661414623, 0.033522967249155045, 0.03365566208958626, -0.0027304869145154953, -0.03590521961450577, -0.002740095369517803, -0.11885897070169449, -0.04929023236036301, 0.03814878687262535, 0.0427064411342144, -0.08028433471918106, -0.06435568630695343, 0.10462180525064468, -0.0017818155465647578, -0.0678786039352417, -0.014314895495772362, -0.0011606529587879777, -0.03854653611779213, 0.047333862632513046, 0.048452217131853104, 0.0009056763956323266, -0.06795159727334976, -0.08099798113107681, 0.053926289081573486, 0.04216674715280533, -0.04495475813746452, 0.0026096487417817116, -0.0086881835013628, 0.09716198593378067, -0.016528906300663948, 0.049340423196554184, 0.0736810714006424, 0.09435853362083435, 0.021683068946003914, -0.002174097578972578, 0.015093302354216576, -0.030823249369859695, 0.05021848529577255, 0.0743880346417427, 0.09031537175178528, -4.5712980067946773e-08, 0.02033492736518383, -0.0069885035045444965, -0.06207503005862236, 0.036120008677244186, -0.026501044631004333, -0.02215394750237465, 0.009409020654857159, -0.040872808545827866, 0.02871236577630043, -0.004141438752412796, -0.07660186290740967, -0.04360133782029152, 0.0029077341314405203, 0.07081666588783264, -0.02993820607662201, -0.05628921464085579, -0.015939129516482353, 0.13646206259727478, 0.06382974982261658, -0.04831264913082123, 0.014904007315635681, -0.038841232657432556, 0.0012752568582072854, 0.038403358310461044, 0.02498754858970642, -0.02604568749666214, 0.03249223530292511, -0.013914866372942924, -0.11413281410932541, -0.018554143607616425, -0.08512377738952637, -0.0492444783449173, 0.017153644934296608, -0.022694522514939308, -0.011220159940421581, 0.030230771750211716, -0.0005452869227156043, -0.008562902919948101, 0.0019291371572762728, 0.00041652307845652103, 0.057450804859399796, -0.023088568821549416, 0.043315645307302475, -0.09797842055559158, -0.029692694544792175, -0.050088271498680115, -0.026439175009727478, -0.00894040148705244, 0.01872285082936287, -0.002627220470458269, -0.00398835726082325, 0.021232808008790016, 0.05724537372589111, 0.026714688166975975, 0.061500854790210724, -0.03338294476270676, 0.027624603360891342, -0.02664707787334919, 0.0007246165187098086, -0.046870771795511246, 0.050653453916311264, 0.06910809129476547, -0.022137921303510666, -0.08108410239219666], 'id': '4d120171-b711-429a-a532-03054cf30cad', '_distance': 1.039262294769287})]"
      ]
     },
     "execution_count": 33,
     "metadata": {},
     "output_type": "execute_result"
    }
   ],
   "source": [
    "%%time\n",
    "for i in range(repeat):\n",
    "    docsearch.similarity_search(query)\n",
    "\n",
    "docsearch.similarity_search(query)"
   ]
  },
  {
   "cell_type": "markdown",
   "metadata": {},
   "source": [
    "## Qdrant"
   ]
  },
  {
   "cell_type": "code",
   "execution_count": 34,
   "metadata": {},
   "outputs": [
    {
     "name": "stdout",
     "output_type": "stream",
     "text": [
      "CPU times: user 22.7 s, sys: 584 ms, total: 23.3 s\n",
      "Wall time: 5.87 s\n"
     ]
    }
   ],
   "source": [
    "%%time \n",
    "\n",
    "# Store\n",
    "from langchain_community.vectorstores import Qdrant\n",
    "docsearch = Qdrant.from_documents(\n",
    "    docs,\n",
    "    embeddings,\n",
    "    path=\"/tmp/local_qdrant\",\n",
    "    collection_name=\"my_documents\",\n",
    ")"
   ]
  },
  {
   "cell_type": "code",
   "execution_count": 35,
   "metadata": {},
   "outputs": [
    {
     "name": "stdout",
     "output_type": "stream",
     "text": [
      "CPU times: user 19.3 s, sys: 3.62 s, total: 22.9 s\n",
      "Wall time: 3.99 s\n"
     ]
    },
    {
     "data": {
      "text/plain": [
       "[Document(page_content=\"The chatbots are in their respective folders with an application launcher `autorun.sh` to install each of them without specific knowledge.  \\nOn Mac, open the terminal and type:\\n```shell\\ncd\\n```\\nDrag the **`folder`** containing the file `autorun.sh`, then press the Enter key (↩︎).  \\n_If you have done it correctly, the **`~`** between your machine's name (`name@MacBook-Pro-of-Name`) and the **`%`** sign should display the name of the `folder` instead._  \\nExecute the following line of code by pressing the Enter key (↩︎):\\n```shell\\nsh autorun.sh\\n```\\nWait a moment, the model should open in your default web browser.\", metadata={'Header 1': 'Onboarding Bot Model', 'Header 2': 'Installation', '_id': '04a4e6b37b0948829db79f436d5409fd', '_collection_name': 'my_documents'}),\n",
       " Document(page_content=\"The chatbots are in their respective folders with an application launcher `autorun.sh` to install each of them without specific knowledge.  \\nOn Mac, open the terminal and type:\\n```shell\\ncd\\n```\\nDrag the **`folder`** containing the file `autorun.sh`, then press the Enter key (↩︎).  \\n_If you have done it correctly, the **`~`** between your machine's name (`name@MacBook-Pro-of-Name`) and the **`%`** sign should display the name of the `folder` instead._  \\nExecute the following line of code by pressing the Enter key (↩︎):\\n```shell\\nsh autorun.sh\\n```\\nWait a moment, the model should open in your default web browser.\", metadata={'Header 1': 'Onboarding Bot Model', 'Header 2': 'Installation', '_id': 'b7c7c2bfc87940c5af5a7d5c1b3edec8', '_collection_name': 'my_documents'}),\n",
       " Document(page_content=\"The chatbots are in their respective folders with an application launcher `autorun.sh` to install each of them without specific knowledge.  \\nOn Mac, open the terminal and type:\\n```shell\\ncd\\n```\\nDrag the **`folder`** containing the file `autorun.sh`, then press the Enter key (↩︎).  \\n_If you have done it correctly, the **`~`** between your machine's name (`name@MacBook-Pro-of-Name`) and the **`%`** sign should display the name of the `folder` instead._  \\nExecute the following line of code by pressing the Enter key (↩︎):\\n```shell\\nsh autorun.sh\\n```\\nWait a moment, the model should open in your default web browser.\", metadata={'Header 1': 'Onboarding Bot Model', 'Header 2': 'Installation', '_id': '5accf2b8cd8b457aad4106272e1c46aa', '_collection_name': 'my_documents'}),\n",
       " Document(page_content=\"The chatbots are in their respective folders with an application launcher `autorun.sh` to install each of them without specific knowledge.  \\nOn Mac, open the terminal and type:\\n```shell\\ncd\\n```\\nDrag the **`folder`** containing the file `autorun.sh`, then press the Enter key (↩︎).  \\n_If you have done it correctly, the **`~`** between your machine's name (`name@MacBook-Pro-of-Name`) and the **`%`** sign should display the name of the `folder` instead._  \\nExecute the following line of code by pressing the Enter key (↩︎):\\n```shell\\nsh autorun.sh\\n```\\nWait a moment, the model should open in your default web browser.\", metadata={'Header 1': 'Onboarding Bot Model', 'Header 2': 'Installation', '_id': '8d2197ece10e45968e31efbf36ac3f50', '_collection_name': 'my_documents'})]"
      ]
     },
     "execution_count": 35,
     "metadata": {},
     "output_type": "execute_result"
    }
   ],
   "source": [
    "%%time\n",
    "for i in range(repeat):\n",
    "    docsearch.similarity_search(query)\n",
    "\n",
    "docsearch.similarity_search(query)"
   ]
  },
  {
   "cell_type": "markdown",
   "metadata": {},
   "source": [
    "## SKLearn"
   ]
  },
  {
   "cell_type": "code",
   "execution_count": 36,
   "metadata": {},
   "outputs": [
    {
     "name": "stdout",
     "output_type": "stream",
     "text": [
      "CPU times: user 20.7 s, sys: 441 ms, total: 21.2 s\n",
      "Wall time: 4.86 s\n"
     ]
    }
   ],
   "source": [
    "%%time \n",
    "\n",
    "# Store\n",
    "from langchain_community.vectorstores import SKLearnVectorStore\n",
    "docsearch = SKLearnVectorStore.from_documents(docs, embeddings)"
   ]
  },
  {
   "cell_type": "code",
   "execution_count": 37,
   "metadata": {},
   "outputs": [
    {
     "name": "stdout",
     "output_type": "stream",
     "text": [
      "CPU times: user 19.4 s, sys: 3.68 s, total: 23 s\n",
      "Wall time: 3.9 s\n"
     ]
    },
    {
     "data": {
      "text/plain": [
       "[Document(page_content=\"The chatbots are in their respective folders with an application launcher `autorun.sh` to install each of them without specific knowledge.  \\nOn Mac, open the terminal and type:\\n```shell\\ncd\\n```\\nDrag the **`folder`** containing the file `autorun.sh`, then press the Enter key (↩︎).  \\n_If you have done it correctly, the **`~`** between your machine's name (`name@MacBook-Pro-of-Name`) and the **`%`** sign should display the name of the `folder` instead._  \\nExecute the following line of code by pressing the Enter key (↩︎):\\n```shell\\nsh autorun.sh\\n```\\nWait a moment, the model should open in your default web browser.\", metadata={'id': 'a301206c-d425-4ef0-90ae-66415b98b4c8', 'Header 1': 'Onboarding Bot Model', 'Header 2': 'Installation', '_id': '8d2197ece10e45968e31efbf36ac3f50', '_collection_name': 'my_documents'}),\n",
       " Document(page_content='The [Dev Launchers](https://devlaunchers.org) website is a community of aspiring developers eager to learn and gain experience. As such, projects are open-source and ambitious, allowing members to enhance their skills.  \\nThe [ChatBot](https://en.wikipedia.org/wiki/Chatbot) project is valuable to this international community working across different time zones. To integrate a new member, it is crucial to be able to address their questions. This becomes challenging when the part of the community capable of responding is located 12 time zones away from the new member. Therefore, it was essential to have a service capable of answering questions, even in the middle of the night.', metadata={'id': '3bca44b9-4feb-4edd-a9d7-4fd7ffc4ce52', 'Header 1': 'Onboarding Bot Model', 'Header 2': 'Overview'}),\n",
       " Document(page_content='* [ChatBot Llama](https://blog.streamlit.io/how-to-build-a-llama-2-chatbot/)\\n* [ChatBot Llama Exemple](https://llama2.streamlit.app)  \\n* [ChatBot Streamlit](https://github.com/streamlit/llm-examples/tree/main)\\n* [ChatBot Streamlit Exemple](https://llm-examples.streamlit.app)  \\n* [ChatGPT API](https://platform.openai.com/docs/introduction)\\n* [fine-tuning Chat-GPT](https://platform.openai.com/docs/guides/fine-tuning)  \\n* LangChain :\\n* [Hugging Face](https://python.langchain.com/docs/integrations/platforms/huggingface)\\n* [Hugging Face Tool](https://python.langchain.com/docs/integrations/tools/huggingface_tools)  \\n* [Docs GitHub](https://python.langchain.com/docs/integrations/document_loaders/github)\\n* [Docs Source Code](https://python.langchain.com/docs/integrations/document_loaders/source_code)  \\n* [subtitles](https://python.langchain.com/docs/integrations/document_loaders/imsdb)', metadata={'id': 'c99b5a16-21fb-40fc-8b1a-26dc70d4e5c4', 'Header 1': 'Onboarding Bot Model', 'Header 2': 'External Help links'}),\n",
       " Document(page_content=\"1. make sure your file structure looks like this\\n```\\n├── plaform__api\\n├── platform__dev-env\\n├── project__discord-bot\\n```\\n2. Make sure to add all the env var to the `api.env.example`. After adding all the env var,\\nmake sure to remove .example from `api.env.example`. It should look like this `api.env`.\\nIf you don't know the env var, just ask in the backend-chat channel on discord and someone\\nshould send you all the env vars.\", metadata={'id': 'ebd35295-8cff-4aee-ae25-04e977009a8f', 'Header 1': 'Setup'})]"
      ]
     },
     "execution_count": 37,
     "metadata": {},
     "output_type": "execute_result"
    }
   ],
   "source": [
    "%%time\n",
    "for i in range(repeat):\n",
    "    docsearch.similarity_search(query)\n",
    "\n",
    "docsearch.similarity_search(query)"
   ]
  },
  {
   "cell_type": "markdown",
   "metadata": {},
   "source": [
    "## SQLite-VSS"
   ]
  },
  {
   "cell_type": "code",
   "execution_count": 38,
   "metadata": {},
   "outputs": [
    {
     "name": "stdout",
     "output_type": "stream",
     "text": [
      "CPU times: user 23 s, sys: 609 ms, total: 23.7 s\n",
      "Wall time: 5.72 s\n"
     ]
    }
   ],
   "source": [
    "%%time \n",
    "\n",
    "# Store\n",
    "from langchain_community.vectorstores import SQLiteVSS\n",
    "docsearch = SQLiteVSS.from_documents(docs, embeddings)"
   ]
  },
  {
   "cell_type": "code",
   "execution_count": 39,
   "metadata": {},
   "outputs": [
    {
     "name": "stdout",
     "output_type": "stream",
     "text": [
      "CPU times: user 23.7 s, sys: 3.72 s, total: 27.4 s\n",
      "Wall time: 4.81 s\n"
     ]
    },
    {
     "data": {
      "text/plain": [
       "[Document(page_content=\"The chatbots are in their respective folders with an application launcher `autorun.sh` to install each of them without specific knowledge.  \\nOn Mac, open the terminal and type:\\n```shell\\ncd\\n```\\nDrag the **`folder`** containing the file `autorun.sh`, then press the Enter key (↩︎).  \\n_If you have done it correctly, the **`~`** between your machine's name (`name@MacBook-Pro-of-Name`) and the **`%`** sign should display the name of the `folder` instead._  \\nExecute the following line of code by pressing the Enter key (↩︎):\\n```shell\\nsh autorun.sh\\n```\\nWait a moment, the model should open in your default web browser.\", metadata={'Header 1': 'Onboarding Bot Model', 'Header 2': 'Installation', '_id': 'b7c7c2bfc87940c5af5a7d5c1b3edec8', '_collection_name': 'my_documents'}),\n",
       " Document(page_content=\"The chatbots are in their respective folders with an application launcher `autorun.sh` to install each of them without specific knowledge.  \\nOn Mac, open the terminal and type:\\n```shell\\ncd\\n```\\nDrag the **`folder`** containing the file `autorun.sh`, then press the Enter key (↩︎).  \\n_If you have done it correctly, the **`~`** between your machine's name (`name@MacBook-Pro-of-Name`) and the **`%`** sign should display the name of the `folder` instead._  \\nExecute the following line of code by pressing the Enter key (↩︎):\\n```shell\\nsh autorun.sh\\n```\\nWait a moment, the model should open in your default web browser.\", metadata={'Header 1': 'Onboarding Bot Model', 'Header 2': 'Installation', '_id': '8d2197ece10e45968e31efbf36ac3f50', '_collection_name': 'my_documents'}),\n",
       " Document(page_content='The [Dev Launchers](https://devlaunchers.org) website is a community of aspiring developers eager to learn and gain experience. As such, projects are open-source and ambitious, allowing members to enhance their skills.  \\nThe [ChatBot](https://en.wikipedia.org/wiki/Chatbot) project is valuable to this international community working across different time zones. To integrate a new member, it is crucial to be able to address their questions. This becomes challenging when the part of the community capable of responding is located 12 time zones away from the new member. Therefore, it was essential to have a service capable of answering questions, even in the middle of the night.', metadata={'Header 1': 'Onboarding Bot Model', 'Header 2': 'Overview'}),\n",
       " Document(page_content='The [Dev Launchers](https://devlaunchers.org) website is a community of aspiring developers eager to learn and gain experience. As such, projects are open-source and ambitious, allowing members to enhance their skills.  \\nThe [ChatBot](https://en.wikipedia.org/wiki/Chatbot) project is valuable to this international community working across different time zones. To integrate a new member, it is crucial to be able to address their questions. This becomes challenging when the part of the community capable of responding is located 12 time zones away from the new member. Therefore, it was essential to have a service capable of answering questions, even in the middle of the night.', metadata={'Header 1': 'Onboarding Bot Model', 'Header 2': 'Overview'})]"
      ]
     },
     "execution_count": 39,
     "metadata": {},
     "output_type": "execute_result"
    }
   ],
   "source": [
    "%%time\n",
    "for i in range(repeat):\n",
    "    docsearch.similarity_search(query)\n",
    "\n",
    "docsearch.similarity_search(query)"
   ]
  },
  {
   "cell_type": "markdown",
   "metadata": {},
   "source": [
    "## TileDB"
   ]
  },
  {
   "cell_type": "code",
   "execution_count": 40,
   "metadata": {},
   "outputs": [
    {
     "name": "stdout",
     "output_type": "stream",
     "text": [
      "\u001b[33mWarning:\u001b[0m typesense/tap/typesense-server@0.25.2 0.25.2 is already installed and up-to-date.\n",
      "To reinstall 0.25.2, run:\n",
      "  brew reinstall typesense-server@0.25.2\n",
      "Service `typesense-server@0.25.2` already started, use `brew services restart typesense-server@0.25.2` to restart.\n"
     ]
    }
   ],
   "source": [
    "# !brew install typesense/tap/typesense-server@0.25.2\n",
    "!brew services start typesense-server@0.25.2"
   ]
  },
  {
   "cell_type": "code",
   "execution_count": 41,
   "metadata": {},
   "outputs": [
    {
     "name": "stdout",
     "output_type": "stream",
     "text": [
      "CPU times: user 22 s, sys: 878 ms, total: 22.9 s\n",
      "Wall time: 5.59 s\n"
     ]
    }
   ],
   "source": [
    "%%time \n",
    "\n",
    "# Store\n",
    "from langchain_community.vectorstores import Typesense\n",
    "docsearch = Typesense.from_documents(\n",
    "    docs,\n",
    "    embeddings,\n",
    "    typesense_client_params={\n",
    "        \"host\": \"localhost\",  # Use xxx.a1.typesense.net for Typesense Cloud\n",
    "        \"port\": \"8108\",  # Use 443 for Typesense Cloud\n",
    "        \"protocol\": \"http\",  # Use https for Typesense Cloud\n",
    "        \"typesense_api_key\": \"xyz\",\n",
    "        \"typesense_collection_name\": \"lang-chain\",\n",
    "    },\n",
    ")"
   ]
  },
  {
   "cell_type": "code",
   "execution_count": 42,
   "metadata": {},
   "outputs": [
    {
     "name": "stdout",
     "output_type": "stream",
     "text": [
      "CPU times: user 10.1 s, sys: 151 ms, total: 10.2 s\n",
      "Wall time: 3.42 s\n"
     ]
    },
    {
     "data": {
      "text/plain": [
       "[Document(page_content='Repository for Mincraft build by the Dev Launchers community', metadata={'Header 1': 'community-minecraft'}),\n",
       " Document(page_content='Repository for Mincraft build by the Dev Launchers community', metadata={'Header 1': 'community-minecraft'}),\n",
       " Document(page_content='Repository for Mincraft build by the Dev Launchers community', metadata={'Header 1': 'community-minecraft'}),\n",
       " Document(page_content='Recipe book', metadata={'Header 1': 'project__recipe-book'}),\n",
       " Document(page_content='Recipe book', metadata={'Header 1': 'project__recipe-book'}),\n",
       " Document(page_content='Recipe book', metadata={'Header 1': 'project__recipe-book'}),\n",
       " Document(page_content='Merging to release branch will deploy to production server.', metadata={'Header 1': 'Deployment', 'Header 2': 'Production'}),\n",
       " Document(page_content='Merging to release branch will deploy to production server.', metadata={'Header 1': 'Deployment', 'Header 2': 'Production'}),\n",
       " Document(page_content='Merging to release branch will deploy to production server.', metadata={'Header 1': 'Deployment', 'Header 2': 'Production'}),\n",
       " Document(page_content='A collection of learning resources for different skills, organized into a nice project board', metadata={'Header 1': 'learning-resources'})]"
      ]
     },
     "execution_count": 42,
     "metadata": {},
     "output_type": "execute_result"
    }
   ],
   "source": [
    "%%time\n",
    "for i in range(repeat):\n",
    "    docsearch.similarity_search(query)\n",
    "\n",
    "docsearch.similarity_search(query)"
   ]
  },
  {
   "cell_type": "markdown",
   "metadata": {},
   "source": [
    "## USearch"
   ]
  },
  {
   "cell_type": "code",
   "execution_count": 43,
   "metadata": {},
   "outputs": [
    {
     "name": "stdout",
     "output_type": "stream",
     "text": [
      "CPU times: user 22.1 s, sys: 523 ms, total: 22.6 s\n",
      "Wall time: 5.43 s\n"
     ]
    }
   ],
   "source": [
    "%%time \n",
    "\n",
    "# Store\n",
    "from langchain_community.vectorstores import USearch\n",
    "docsearch = USearch.from_documents(docs, embeddings)"
   ]
  },
  {
   "cell_type": "code",
   "execution_count": 44,
   "metadata": {},
   "outputs": [
    {
     "name": "stdout",
     "output_type": "stream",
     "text": [
      "CPU times: user 9.66 s, sys: 111 ms, total: 9.77 s\n",
      "Wall time: 2.61 s\n"
     ]
    },
    {
     "data": {
      "text/plain": [
       "[Document(page_content=\"The chatbots are in their respective folders with an application launcher `autorun.sh` to install each of them without specific knowledge.  \\nOn Mac, open the terminal and type:\\n```shell\\ncd\\n```\\nDrag the **`folder`** containing the file `autorun.sh`, then press the Enter key (↩︎).  \\n_If you have done it correctly, the **`~`** between your machine's name (`name@MacBook-Pro-of-Name`) and the **`%`** sign should display the name of the `folder` instead._  \\nExecute the following line of code by pressing the Enter key (↩︎):\\n```shell\\nsh autorun.sh\\n```\\nWait a moment, the model should open in your default web browser.\", metadata={'Header 1': 'Onboarding Bot Model', 'Header 2': 'Installation', '_id': '8d2197ece10e45968e31efbf36ac3f50', '_collection_name': 'my_documents'}),\n",
       " Document(page_content='The [Dev Launchers](https://devlaunchers.org) website is a community of aspiring developers eager to learn and gain experience. As such, projects are open-source and ambitious, allowing members to enhance their skills.  \\nThe [ChatBot](https://en.wikipedia.org/wiki/Chatbot) project is valuable to this international community working across different time zones. To integrate a new member, it is crucial to be able to address their questions. This becomes challenging when the part of the community capable of responding is located 12 time zones away from the new member. Therefore, it was essential to have a service capable of answering questions, even in the middle of the night.', metadata={'Header 1': 'Onboarding Bot Model', 'Header 2': 'Overview'}),\n",
       " Document(page_content='* [ChatBot Llama](https://blog.streamlit.io/how-to-build-a-llama-2-chatbot/)\\n* [ChatBot Llama Exemple](https://llama2.streamlit.app)  \\n* [ChatBot Streamlit](https://github.com/streamlit/llm-examples/tree/main)\\n* [ChatBot Streamlit Exemple](https://llm-examples.streamlit.app)  \\n* [ChatGPT API](https://platform.openai.com/docs/introduction)\\n* [fine-tuning Chat-GPT](https://platform.openai.com/docs/guides/fine-tuning)  \\n* LangChain :\\n* [Hugging Face](https://python.langchain.com/docs/integrations/platforms/huggingface)\\n* [Hugging Face Tool](https://python.langchain.com/docs/integrations/tools/huggingface_tools)  \\n* [Docs GitHub](https://python.langchain.com/docs/integrations/document_loaders/github)\\n* [Docs Source Code](https://python.langchain.com/docs/integrations/document_loaders/source_code)  \\n* [subtitles](https://python.langchain.com/docs/integrations/document_loaders/imsdb)', metadata={'Header 1': 'Onboarding Bot Model', 'Header 2': 'External Help links'}),\n",
       " Document(page_content=\"1. make sure your file structure looks like this\\n```\\n├── plaform__api\\n├── platform__dev-env\\n├── project__discord-bot\\n```\\n2. Make sure to add all the env var to the `api.env.example`. After adding all the env var,\\nmake sure to remove .example from `api.env.example`. It should look like this `api.env`.\\nIf you don't know the env var, just ask in the backend-chat channel on discord and someone\\nshould send you all the env vars.\", metadata={'Header 1': 'Setup'})]"
      ]
     },
     "execution_count": 44,
     "metadata": {},
     "output_type": "execute_result"
    }
   ],
   "source": [
    "%%time\n",
    "for i in range(repeat):\n",
    "    docsearch.similarity_search(query)\n",
    "\n",
    "docsearch.similarity_search(query)"
   ]
  },
  {
   "cell_type": "markdown",
   "metadata": {},
   "source": [
    "# Result \n",
    "\n",
    "| Embeddings Module     | Speed Create table (CPU) | Speed Search (CPU) | Good Answer      |\n",
    "|-----------------------|--------------------------|--------------------|:----------------:|\n",
    "| BGE                   |52.3 s                    |1.01 s              |🟠                |\n",
    "| FastEmbed             |1min 11s                  |1.20 s              |🟠                |\n",
    "| GPT4All               |22.9 s                    |1.18 s              |🟢                |\n",
    "| Hugging Face          |1min 27s                  |2.15 s              |🟢                |\n",
    "| ModelScope            |37.7 s                    |1.97 s              |🟢                |\n",
    "| OpenClip              |                          |                    |🔴                |\n",
    "| HuggingFaceEmbeddings |1min 23s                  |2.10 s              |🟢                |\n",
    "| SpaCy                 |                          |                    |🔴                |"
   ]
  }
 ],
 "metadata": {
  "kernelspec": {
   "display_name": "Python 3",
   "language": "python",
   "name": "python3"
  },
  "language_info": {
   "codemirror_mode": {
    "name": "ipython",
    "version": 3
   },
   "file_extension": ".py",
   "mimetype": "text/x-python",
   "name": "python",
   "nbconvert_exporter": "python",
   "pygments_lexer": "ipython3",
   "version": "3.11.6"
  }
 },
 "nbformat": 4,
 "nbformat_minor": 2
}
