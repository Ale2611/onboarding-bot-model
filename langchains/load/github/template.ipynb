{
 "cells": [
  {
   "cell_type": "markdown",
   "metadata": {},
   "source": [
    "## Common Use\n",
    "\n",
    "This function is designed to retrieve all project files from the GitHub repository of an organization (excluding .git history).\n",
    "\n",
    "Create a GitHub Token using this [Link](https://github.com/settings/tokens/new) and configure it with the following parameters:\n",
    "* `read:packages`\n",
    "* `read:org`\n",
    "* `read:discussion`\n",
    "* `read:project`\n",
    "\n",
    "**⚠️ Don't forget to add `TOKEN.txt` to .gitignore**"
   ]
  },
  {
   "cell_type": "code",
   "execution_count": 1,
   "metadata": {},
   "outputs": [],
   "source": [
    "import extract\n",
    "\n",
    "access_token = open('TOKEN.txt', 'r').read()\n",
    "\n",
    "extract.github_projects_from(\"dev-launchers\", access_token)"
   ]
  }
 ],
 "metadata": {
  "kernelspec": {
   "display_name": "bemb",
   "language": "python",
   "name": "python3"
  },
  "language_info": {
   "codemirror_mode": {
    "name": "ipython",
    "version": 3
   },
   "file_extension": ".py",
   "mimetype": "text/x-python",
   "name": "python",
   "nbconvert_exporter": "python",
   "pygments_lexer": "ipython3",
   "version": "3.11.8"
  }
 },
 "nbformat": 4,
 "nbformat_minor": 2
}
