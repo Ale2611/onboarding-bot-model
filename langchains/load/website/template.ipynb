{
 "cells": [
  {
   "cell_type": "markdown",
   "metadata": {},
   "source": [
    "## Common Use\n",
    "\n",
    "This function is designed to crawl a website starting from its homepage. \\\n",
    "Iterations are based on the links discovered on the scraped page, then the links of those links, and so on."
   ]
  },
  {
   "cell_type": "code",
   "execution_count": 5,
   "metadata": {},
   "outputs": [
    {
     "name": "stdout",
     "output_type": "stream",
     "text": [
      "Iteration No. 1\n",
      "The file index.html has been saved in devlaunchers.org successfully.\n",
      "Iteration No. 2\n",
      "The file projects.html has been saved in devlaunchers.org successfully.\n",
      "The file create.html has been saved in devlaunchers.org successfully.\n",
      "The file ideaspace.html has been saved in devlaunchers.org successfully.\n",
      "The file support-us.html has been saved in devlaunchers.org successfully.\n",
      "The file browse.html has been saved in devlaunchers.org/ideaspace successfully.\n",
      "The file submit.html has been saved in devlaunchers.org/ideaspace successfully.\n",
      "The file privacy-policy.html has been saved in devlaunchers.org/page successfully.\n",
      "The file join.html has been saved in devlaunchers.org successfully.\n",
      "The file terms-and-conditions.html has been saved in devlaunchers.org/page successfully.\n",
      "The file learn.html has been saved in devlaunchers.org successfully.\n",
      "Iteration No. 3\n",
      "The file user-profile.html has been saved in devlaunchers.org/join successfully.\n",
      "The file dev-launchers-platform.html has been saved in devlaunchers.org/join successfully.\n",
      "The file site-backend.html has been saved in devlaunchers.org/join successfully.\n",
      "The file DevBots.html has been saved in devlaunchers.org/join successfully.\n",
      "The file hello-world.html has been saved in devlaunchers.org/join successfully.\n",
      "The file Dev-Recruiting.html has been saved in devlaunchers.org/join successfully.\n",
      "The file platform-enablement.html has been saved in devlaunchers.org/join successfully.\n",
      "The file community-development-team.html has been saved in devlaunchers.org/join successfully.\n",
      "The file DL-IdeaSpace.html has been saved in devlaunchers.org/join successfully.\n",
      "The file universal-design.html has been saved in devlaunchers.org/join successfully.\n",
      "Iteration No. 4\n"
     ]
    }
   ],
   "source": [
    "import extract\n",
    "\n",
    "extract.website_from(homepage=\"https://devlaunchers.org/\", iterative_limit= 4)"
   ]
  },
  {
   "cell_type": "markdown",
   "metadata": {},
   "source": [
    "## Other Available Functions\n",
    "\n",
    "### From a URL"
   ]
  },
  {
   "cell_type": "code",
   "execution_count": 2,
   "metadata": {},
   "outputs": [
    {
     "name": "stdout",
     "output_type": "stream",
     "text": [
      "https:// devlaunchers.org https://devlaunchers.org devlaunchers.org/ideaspace submit.html\n"
     ]
    }
   ],
   "source": [
    "import extract\n",
    "\n",
    "url= \"https://devlaunchers.org/ideaspace/submit\"\n",
    "\n",
    "print(extract.protocol_from(url),\n",
    "      extract.domain_from(url),\n",
    "      extract.hostname_from(url),\n",
    "      extract.path_from(url),\n",
    "      extract.filename_from(url))"
   ]
  },
  {
   "cell_type": "markdown",
   "metadata": {},
   "source": [
    "### From a Request"
   ]
  },
  {
   "cell_type": "code",
   "execution_count": 3,
   "metadata": {},
   "outputs": [
    {
     "name": "stdout",
     "output_type": "stream",
     "text": [
      "{'https://devlaunchers.org/projects', 'https://devlaunchers.org/create', 'https://devlaunchers.org/ideaspace', 'https://devlaunchers.org/', 'https://devlaunchers.org/support-us', 'https://devlaunchers.org/ideaspace/browse', 'https://devlaunchers.org/ideaspace/submit', 'https://devlaunchers.org/page/privacy-policy', 'https://devlaunchers.org/join', 'https://devlaunchers.org/page/terms-and-conditions', 'https://devlaunchers.org/learn'}\n"
     ]
    }
   ],
   "source": [
    "import requests\n",
    "\n",
    "url= \"https://devlaunchers.org/\"\n",
    "\n",
    "response = requests.get(url)\n",
    "\n",
    "print(extract.urls_from(response))"
   ]
  },
  {
   "cell_type": "markdown",
   "metadata": {},
   "source": [
    "### For Save the content of a request"
   ]
  },
  {
   "cell_type": "code",
   "execution_count": 6,
   "metadata": {},
   "outputs": [
    {
     "name": "stdout",
     "output_type": "stream",
     "text": [
      "The file file.html has been saved in folder/subfolder successfully.\n"
     ]
    }
   ],
   "source": [
    "import requests\n",
    "import save\n",
    "\n",
    "url= \"https://devlaunchers.org/\"\n",
    "\n",
    "response = requests.get(url)\n",
    "\n",
    "save.request_at(path= 'folder/subfolder', filename= 'file.html', response= response)"
   ]
  }
 ],
 "metadata": {
  "kernelspec": {
   "display_name": "bemb",
   "language": "python",
   "name": "python3"
  },
  "language_info": {
   "codemirror_mode": {
    "name": "ipython",
    "version": 3
   },
   "file_extension": ".py",
   "mimetype": "text/x-python",
   "name": "python",
   "nbconvert_exporter": "python",
   "pygments_lexer": "ipython3",
   "version": "3.11.8"
  }
 },
 "nbformat": 4,
 "nbformat_minor": 2
}
