{
 "cells": [
  {
   "cell_type": "markdown",
   "metadata": {},
   "source": [
    "## Create a vector store database\n",
    "\n",
    "### Library"
   ]
  },
  {
   "cell_type": "code",
   "execution_count": 3,
   "metadata": {},
   "outputs": [],
   "source": [
    "import extract\n",
    "import split\n",
    "from langchain_community.embeddings import GPT4AllEmbeddings as Embeddings\n",
    "from langchain_community.vectorstores import FAISS as VectorStore"
   ]
  },
  {
   "cell_type": "markdown",
   "metadata": {},
   "source": [
    "### Load"
   ]
  },
  {
   "cell_type": "code",
   "execution_count": 4,
   "metadata": {},
   "outputs": [
    {
     "name": "stdout",
     "output_type": "stream",
     "text": [
      "Iteration No. 1\n",
      "The file index.html has been saved in devlaunchers.org successfully.\n",
      "Iteration No. 2\n",
      "The file ideaspace.html has been saved in devlaunchers.org successfully.\n",
      "The file submit.html has been saved in devlaunchers.org/ideaspace successfully.\n",
      "The file terms-and-conditions.html has been saved in devlaunchers.org/page successfully.\n",
      "The file join.html has been saved in devlaunchers.org successfully.\n",
      "The file create.html has been saved in devlaunchers.org successfully.\n",
      "The file projects.html has been saved in devlaunchers.org successfully.\n",
      "The file browse.html has been saved in devlaunchers.org/ideaspace successfully.\n",
      "The file support-us.html has been saved in devlaunchers.org successfully.\n",
      "The file privacy-policy.html has been saved in devlaunchers.org/page successfully.\n",
      "The file learn.html has been saved in devlaunchers.org successfully.\n",
      "Iteration No. 3\n",
      "The file DevBots.html has been saved in devlaunchers.org/join successfully.\n",
      "The file Dev-Recruiting.html has been saved in devlaunchers.org/join successfully.\n",
      "The file user-profile.html has been saved in devlaunchers.org/join successfully.\n",
      "The file platform-enablement.html has been saved in devlaunchers.org/join successfully.\n",
      "The file site-backend.html has been saved in devlaunchers.org/join successfully.\n",
      "The file universal-design.html has been saved in devlaunchers.org/join successfully.\n",
      "The file hello-world.html has been saved in devlaunchers.org/join successfully.\n",
      "The file dev-launchers-platform.html has been saved in devlaunchers.org/join successfully.\n",
      "The file DL-IdeaSpace.html has been saved in devlaunchers.org/join successfully.\n",
      "The file community-development-team.html has been saved in devlaunchers.org/join successfully.\n",
      "Iteration No. 4\n"
     ]
    }
   ],
   "source": [
    "access_token = open('TOKEN.txt', 'r').read()\n",
    "\n",
    "extract.github_projects_from(\"dev-launchers\", access_token)\n",
    "\n",
    "extract.github_wikis_from(\"dev-launchers\", access_token)\n",
    "\n",
    "extract.website_from(\"https://devlaunchers.org/\", iterative_limit= 4)"
   ]
  },
  {
   "cell_type": "markdown",
   "metadata": {},
   "source": [
    "### Transform"
   ]
  },
  {
   "cell_type": "code",
   "execution_count": 5,
   "metadata": {},
   "outputs": [
    {
     "name": "stderr",
     "output_type": "stream",
     "text": [
      "100%|█████████▉| 1387/1389 [00:00<00:00, 3449.30it/s]\n",
      " 93%|█████████▎| 81/87 [00:00<00:00, 2626.95it/s]\n"
     ]
    }
   ],
   "source": [
    "docs_mark = split.markdowns_from(files_directory=\"../\")\n",
    "\n",
    "docs_html = split.html_from(files_directory=\"../\")\n",
    "\n",
    "docs = docs_html + docs_mark"
   ]
  },
  {
   "cell_type": "markdown",
   "metadata": {},
   "source": [
    "### Embed"
   ]
  },
  {
   "cell_type": "code",
   "execution_count": 6,
   "metadata": {},
   "outputs": [
    {
     "name": "stdout",
     "output_type": "stream",
     "text": [
      "bert_load_from_file: gguf version     = 2\n",
      "bert_load_from_file: gguf alignment   = 32\n",
      "bert_load_from_file: gguf data offset = 695552\n",
      "bert_load_from_file: model name           = BERT\n",
      "bert_load_from_file: model architecture   = bert\n",
      "bert_load_from_file: model file type      = 1\n",
      "bert_load_from_file: bert tokenizer vocab = 30522\n"
     ]
    }
   ],
   "source": [
    "embeddings = Embeddings()"
   ]
  },
  {
   "cell_type": "markdown",
   "metadata": {},
   "source": [
    "### Store"
   ]
  },
  {
   "cell_type": "code",
   "execution_count": 7,
   "metadata": {},
   "outputs": [],
   "source": [
    "vector_store = await VectorStore.afrom_documents(docs, embeddings)\n",
    "\n",
    "vector_store.save_local(\"vector_store\")"
   ]
  },
  {
   "cell_type": "markdown",
   "metadata": {},
   "source": []
  }
 ],
 "metadata": {
  "kernelspec": {
   "display_name": "bemb",
   "language": "python",
   "name": "python3"
  },
  "language_info": {
   "codemirror_mode": {
    "name": "ipython",
    "version": 3
   },
   "file_extension": ".py",
   "mimetype": "text/x-python",
   "name": "python",
   "nbconvert_exporter": "python",
   "pygments_lexer": "ipython3",
   "version": "3.11.8"
  }
 },
 "nbformat": 4,
 "nbformat_minor": 2
}
