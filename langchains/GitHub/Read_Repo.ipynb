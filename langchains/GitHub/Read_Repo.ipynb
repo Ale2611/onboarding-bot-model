{
 "cells": [
  {
   "cell_type": "markdown",
   "metadata": {},
   "source": [
    "# Read and creating the list of repositories"
   ]
  },
  {
   "cell_type": "markdown",
   "metadata": {},
   "source": [
    "### GitHub Token from File \n",
    "*⚠️ Add `TOKEN.txt` to .gitignore* \n",
    "\n",
    "Create a GitHub Token using this [Link](https://github.com/settings/tokens/new) and configure it with the following parameters:\n",
    "* `read:packages`\n",
    "* `read:org`\n",
    "* `read:discussion`\n",
    "* `read:project`"
   ]
  },
  {
   "cell_type": "code",
   "execution_count": 1,
   "metadata": {},
   "outputs": [],
   "source": [
    "access_token = open('TOKEN.txt', 'r').read()"
   ]
  },
  {
   "cell_type": "markdown",
   "metadata": {},
   "source": [
    "### GitHub Organization"
   ]
  },
  {
   "cell_type": "code",
   "execution_count": 2,
   "metadata": {},
   "outputs": [],
   "source": [
    "org_name = 'dev-launchers'"
   ]
  },
  {
   "cell_type": "markdown",
   "metadata": {},
   "source": [
    "### Get the repositories list"
   ]
  },
  {
   "cell_type": "code",
   "execution_count": 3,
   "metadata": {},
   "outputs": [],
   "source": [
    "import requests\n",
    "\n",
    "def get_organization_repositories(org_name, access_token):\n",
    "    headers = {\n",
    "        'Authorization': f'token {access_token}',\n",
    "        'Accept': 'application/vnd.github.v3+json'\n",
    "    }\n",
    "\n",
    "    params = {\n",
    "        'sort': 'updated',\n",
    "        'direction': 'desc',\n",
    "        'per_page': 100\n",
    "    }\n",
    "\n",
    "    # Retrieve the list of repositories for the organization\n",
    "    response = requests.get(f'https://api.github.com/orgs/{org_name}/repos', headers=headers, params=params)\n",
    "\n",
    "    if response.status_code == 200:\n",
    "        repositories = response.json()\n",
    "        return repositories\n",
    "    else:\n",
    "        print(f'Error {response.status_code}: Unable to retrieve organization repositories.')\n",
    "        return None\n",
    "\n",
    "repositories = get_organization_repositories(org_name, access_token)"
   ]
  },
  {
   "cell_type": "markdown",
   "metadata": {},
   "source": [
    "### Checking"
   ]
  },
  {
   "cell_type": "code",
   "execution_count": 4,
   "metadata": {},
   "outputs": [
    {
     "name": "stdout",
     "output_type": "stream",
     "text": [
      "Organization dev-launchers repositories:\n",
      "discord-gateway\n",
      "auth-proxy\n",
      "onboarding-bot-model\n",
      "webhook-workers\n",
      "strapiv4\n",
      "dev-launchers-platform\n",
      "VictorDiniz89\n",
      "onboarding-bot\n",
      "platform__dl-edu\n",
      "minecraft__dev-launchers-library\n",
      "community-minecraft\n",
      "stories\n",
      "strapi\n",
      "monorepo\n",
      "platform__dl-ideas\n",
      "project__mhw-guides\n",
      "react-course-finals\n",
      "devbots__general\n",
      "Dev-Recruiters\n",
      "cron-worker\n",
      "devbots__game\n",
      "dashboard\n",
      "site-projects\n",
      "platform__dev-env\n",
      "Dev-Mentors\n",
      "devbots__backend\n",
      "site-users\n",
      "minecraft__tamingplus\n",
      "project__oj\n",
      "website-router\n",
      "minecraft__newbies\n",
      "minecraft__dailies\n",
      "minecraft__egg-hunt\n",
      "minecraft__pack\n",
      "project__recipe-book\n",
      "minecraft__devbeans\n",
      "minecraft__travelers-wand\n",
      "minecraft__guardians\n",
      "InfoActionBar_Plugin-Minecraft\n",
      "community-minecraft-plugins\n",
      "learning-resources\n",
      "community-engagement__general\n",
      "private__website\n",
      "react-bookstore-cart\n",
      "mongodb-backup\n",
      "interactive-bot\n",
      "app-proxy\n",
      "project__posted-backend\n",
      "tool__admin-portal\n",
      "project__discord-bot\n",
      "project__allone\n",
      "project__posted\n",
      "project__sports-area\n",
      "project__safe-keep\n",
      "project__forest-favors\n",
      "project__pokemon-for-dummies\n",
      "tool__slack-bridge\n",
      "tool__slack-file-share\n",
      "project__On-A-Mission\n",
      "project__pong-adventure\n",
      "project__poddles\n",
      "project__hungry-ghost\n",
      "template__activity\n",
      "template__project\n"
     ]
    }
   ],
   "source": [
    "if repositories:\n",
    "    print(f'Organization {org_name} repositories:')\n",
    "    for repo in repositories:\n",
    "        print(repo['name'])"
   ]
  },
  {
   "cell_type": "markdown",
   "metadata": {},
   "source": [
    "### Export"
   ]
  },
  {
   "cell_type": "code",
   "execution_count": 6,
   "metadata": {},
   "outputs": [],
   "source": [
    "import json\n",
    "\n",
    "if repositories:\n",
    "    repo_list = []\n",
    "    for repo in repositories:\n",
    "        repo_list.append(repo['html_url'])\n",
    "\n",
    "    with open(f'{org_name}_repositories.json', 'w') as file:\n",
    "        json.dump(repo_list, file)"
   ]
  }
 ],
 "metadata": {
  "kernelspec": {
   "display_name": "Python 3",
   "language": "python",
   "name": "python3"
  },
  "language_info": {
   "codemirror_mode": {
    "name": "ipython",
    "version": 3
   },
   "file_extension": ".py",
   "mimetype": "text/x-python",
   "name": "python",
   "nbconvert_exporter": "python",
   "pygments_lexer": "ipython3",
   "version": "3.11.6"
  }
 },
 "nbformat": 4,
 "nbformat_minor": 2
}
