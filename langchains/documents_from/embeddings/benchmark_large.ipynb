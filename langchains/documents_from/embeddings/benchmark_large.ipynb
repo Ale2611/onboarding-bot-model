{
 "cells": [
  {
   "cell_type": "markdown",
   "metadata": {},
   "source": [
    "# Benchmark\n",
    "[Text Embedding](https://python.langchain.com/docs/integrations/text_embedding/)"
   ]
  },
  {
   "cell_type": "code",
   "execution_count": 1,
   "metadata": {},
   "outputs": [],
   "source": [
    "import tracemalloc\n",
    "import subprocess\n",
    "import os\n",
    "\n",
    "folder_name = \"Local\"\n",
    "\n",
    "if not os.path.exists(folder_name):\n",
    "    os.makedirs(folder_name)\n",
    "\n",
    "    subprocess.run([\"git\", \"clone\", \"https://github.com/github/docs.git\", folder_name])"
   ]
  },
  {
   "cell_type": "code",
   "execution_count": 2,
   "metadata": {},
   "outputs": [
    {
     "name": "stderr",
     "output_type": "stream",
     "text": [
      "100%|█████████▉| 5926/5931 [00:01<00:00, 4431.13it/s]\n"
     ]
    }
   ],
   "source": [
    "import markdown_splitter as mdS\n",
    "from langchain_community.vectorstores import FAISS\n",
    "\n",
    "docs = mdS.create_db(path=folder_name, glob=\"**/*.md\",split=None)\n",
    "\n",
    "# data/reusables/open-source/open-source-guide-general.md\n",
    "query = \"Where can I find guidance on creating and nurturing an open source project\""
   ]
  },
  {
   "cell_type": "code",
   "execution_count": 3,
   "metadata": {},
   "outputs": [],
   "source": [
    "# print(len(docs))\n",
    "# docs = docs[0:2000]"
   ]
  },
  {
   "cell_type": "markdown",
   "metadata": {},
   "source": [
    "# BGE  & FAISS"
   ]
  },
  {
   "cell_type": "code",
   "execution_count": 4,
   "metadata": {},
   "outputs": [
    {
     "data": {
      "text/plain": [
       "'\\ntracemalloc.start()\\nprint(tracemalloc.get_traced_memory())\\n\\n# Embeddings\\nfrom langchain_community.embeddings import HuggingFaceBgeEmbeddings\\nembeddings = HuggingFaceBgeEmbeddings(model_name=\"BAAI/bge-small-en\", model_kwargs={\"device\": \"cpu\"}, encode_kwargs={\"normalize_embeddings\": True})\\n\\n# Store\\ndocsearch = await FAISS.afrom_documents(docs, embeddings)\\n\\nprint(tracemalloc.get_traced_memory())\\ntracemalloc.stop()\\n'"
      ]
     },
     "execution_count": 4,
     "metadata": {},
     "output_type": "execute_result"
    }
   ],
   "source": [
    "'''\n",
    "tracemalloc.start()\n",
    "print(tracemalloc.get_traced_memory())\n",
    "\n",
    "# Embeddings\n",
    "from langchain_community.embeddings import HuggingFaceBgeEmbeddings\n",
    "embeddings = HuggingFaceBgeEmbeddings(model_name=\"BAAI/bge-small-en\", model_kwargs={\"device\": \"cpu\"}, encode_kwargs={\"normalize_embeddings\": True})\n",
    "\n",
    "# Store\n",
    "docsearch = await FAISS.afrom_documents(docs, embeddings)\n",
    "\n",
    "print(tracemalloc.get_traced_memory())\n",
    "tracemalloc.stop()\n",
    "'''"
   ]
  },
  {
   "cell_type": "code",
   "execution_count": 5,
   "metadata": {},
   "outputs": [
    {
     "data": {
      "text/plain": [
       "'\\n%%time\\nfor i in range(10):\\n    docsearch.similarity_search(query)\\n\\ndocsearch.similarity_search(query)\\n'"
      ]
     },
     "execution_count": 5,
     "metadata": {},
     "output_type": "execute_result"
    }
   ],
   "source": [
    "'''\n",
    "%%time\n",
    "for i in range(10):\n",
    "    docsearch.similarity_search(query)\n",
    "\n",
    "docsearch.similarity_search(query)\n",
    "'''"
   ]
  },
  {
   "cell_type": "markdown",
   "metadata": {},
   "source": [
    "# FastEmbed & FAISS"
   ]
  },
  {
   "cell_type": "code",
   "execution_count": 6,
   "metadata": {},
   "outputs": [
    {
     "data": {
      "text/plain": [
       "'\\ntracemalloc.start()\\nprint(tracemalloc.get_traced_memory())\\n\\n# Embeddings\\nfrom langchain_community.embeddings.fastembed import FastEmbedEmbeddings\\nembeddings = FastEmbedEmbeddings()\\n\\n# Store\\ndocsearch = await FAISS.afrom_documents(docs, embeddings)\\n\\nprint(tracemalloc.get_traced_memory())\\ntracemalloc.stop()\\n'"
      ]
     },
     "execution_count": 6,
     "metadata": {},
     "output_type": "execute_result"
    }
   ],
   "source": [
    "'''\n",
    "tracemalloc.start()\n",
    "print(tracemalloc.get_traced_memory())\n",
    "\n",
    "# Embeddings\n",
    "from langchain_community.embeddings.fastembed import FastEmbedEmbeddings\n",
    "embeddings = FastEmbedEmbeddings()\n",
    "\n",
    "# Store\n",
    "docsearch = await FAISS.afrom_documents(docs, embeddings)\n",
    "\n",
    "print(tracemalloc.get_traced_memory())\n",
    "tracemalloc.stop()\n",
    "'''"
   ]
  },
  {
   "cell_type": "code",
   "execution_count": 7,
   "metadata": {},
   "outputs": [
    {
     "data": {
      "text/plain": [
       "'\\n%%time\\nfor i in range(10):\\n    docsearch.similarity_search(query)\\n\\ndocsearch.similarity_search(query)\\n'"
      ]
     },
     "execution_count": 7,
     "metadata": {},
     "output_type": "execute_result"
    }
   ],
   "source": [
    "'''\n",
    "%%time\n",
    "for i in range(10):\n",
    "    docsearch.similarity_search(query)\n",
    "\n",
    "docsearch.similarity_search(query)\n",
    "'''"
   ]
  },
  {
   "cell_type": "markdown",
   "metadata": {},
   "source": [
    "# GPT4All & FAISS"
   ]
  },
  {
   "cell_type": "code",
   "execution_count": 8,
   "metadata": {},
   "outputs": [
    {
     "name": "stdout",
     "output_type": "stream",
     "text": [
      "(928, 11633)\n",
      "bert_load_from_file: gguf version     = 2\n",
      "bert_load_from_file: gguf alignment   = 32\n",
      "bert_load_from_file: gguf data offset = 695552\n",
      "bert_load_from_file: model name           = BERT\n",
      "bert_load_from_file: model architecture   = bert\n",
      "bert_load_from_file: model file type      = 1\n",
      "bert_load_from_file: bert tokenizer vocab = 30522\n",
      "(247281963, 282854199)\n"
     ]
    }
   ],
   "source": [
    "tracemalloc.start()\n",
    "print(tracemalloc.get_traced_memory())\n",
    "\n",
    "# Embeddings\n",
    "from langchain_community.embeddings import GPT4AllEmbeddings\n",
    "embeddings = GPT4AllEmbeddings()\n",
    "\n",
    "# Store\n",
    "docsearch = await FAISS.afrom_documents(docs, embeddings)\n",
    "\n",
    "print(tracemalloc.get_traced_memory())\n",
    "tracemalloc.stop()"
   ]
  },
  {
   "cell_type": "code",
   "execution_count": 9,
   "metadata": {},
   "outputs": [
    {
     "name": "stdout",
     "output_type": "stream",
     "text": [
      "CPU times: user 2.92 s, sys: 40.4 ms, total: 2.96 s\n",
      "Wall time: 838 ms\n"
     ]
    },
    {
     "data": {
      "text/plain": [
       "[Document(page_content=\"For more information on open source, specifically how to create and grow an open source project, we've created [Open Source Guides](https://opensource.guide/) that will help you foster a healthy open source community.\"),\n",
       " Document(page_content=\"For more information on open source, specifically how to create and grow an open source project, we've created [Open Source Guides](https://opensource.guide/) that will help you foster a healthy open source community by recommending best practices for creating and maintaining repositories for your open source project.\"),\n",
       " Document(page_content='There are a variety of ways that you can contribute to open source projects.', metadata={'Header 2': 'Validating an issue or pull request'}),\n",
       " Document(page_content='- \"[Your Code of Conduct](https://opensource.guide/code-of-conduct/)\" from the Open Source Guides\\n- \"[Building Welcoming Communities](https://opensource.guide/building-community/)\" from the Open Source Guides\\n- \"[Leadership and Governance](https://opensource.guide/leadership-and-governance/)\" from the Open Source Guides', metadata={'Header 2': 'Further reading'})]"
      ]
     },
     "execution_count": 9,
     "metadata": {},
     "output_type": "execute_result"
    }
   ],
   "source": [
    "%%time\n",
    "for i in range(10):\n",
    "    docsearch.similarity_search(query)\n",
    "\n",
    "docsearch.similarity_search(query)"
   ]
  },
  {
   "cell_type": "markdown",
   "metadata": {},
   "source": [
    "# Hugging Face & FAISS"
   ]
  },
  {
   "cell_type": "code",
   "execution_count": 3,
   "metadata": {},
   "outputs": [
    {
     "name": "stdout",
     "output_type": "stream",
     "text": [
      "(928, 11633)\n",
      "(611073929, 667287104)\n"
     ]
    }
   ],
   "source": [
    "tracemalloc.start()\n",
    "print(tracemalloc.get_traced_memory())\n",
    "\n",
    "# Embeddings\n",
    "from langchain_community.embeddings import HuggingFaceEmbeddings\n",
    "embeddings = HuggingFaceEmbeddings()\n",
    "\n",
    "# Store\n",
    "docsearch = await FAISS.afrom_documents(docs, embeddings)\n",
    "\n",
    "print(tracemalloc.get_traced_memory())\n",
    "tracemalloc.stop()"
   ]
  },
  {
   "cell_type": "code",
   "execution_count": 4,
   "metadata": {},
   "outputs": [
    {
     "name": "stdout",
     "output_type": "stream",
     "text": [
      "CPU times: user 2.41 s, sys: 921 ms, total: 3.33 s\n",
      "Wall time: 921 ms\n"
     ]
    },
    {
     "data": {
      "text/plain": [
       "[Document(page_content=\"For more information on open source, specifically how to create and grow an open source project, we've created [Open Source Guides](https://opensource.guide/) that will help you foster a healthy open source community.\"),\n",
       " Document(page_content=\"For more information on open source, specifically how to create and grow an open source project, we've created [Open Source Guides](https://opensource.guide/) that will help you foster a healthy open source community by recommending best practices for creating and maintaining repositories for your open source project.\"),\n",
       " Document(page_content='Contributing to open source projects on {% data variables.product.prodname_dotcom %} can be a rewarding way to learn, teach, and build experience in just about any skill you can imagine. For more information, see \"[How to Contribute to Open Source](https://opensource.guide/how-to-contribute/)\" in the Open Source Guides.  \\nYou can find personalized recommendations for projects and good first issues based on your past contributions, stars, and other activities in [Explore {% data variables.product.prodname_dotcom %}](https://github.com/explore).{% ifversion fpt or ghec %} For more information, see \"[AUTOTITLE](/get-started/exploring-projects-on-github/finding-ways-to-contribute-to-open-source-on-github).\"\\n{% endif %}'),\n",
       " Document(page_content='There are a variety of ways that you can contribute to open source projects.', metadata={'Header 2': 'Validating an issue or pull request'})]"
      ]
     },
     "execution_count": 4,
     "metadata": {},
     "output_type": "execute_result"
    }
   ],
   "source": [
    "%%time\n",
    "for i in range(10):\n",
    "    docsearch.similarity_search(query)\n",
    "\n",
    "docsearch.similarity_search(query)"
   ]
  },
  {
   "cell_type": "markdown",
   "metadata": {},
   "source": [
    "# ModelScope & FAISS"
   ]
  },
  {
   "cell_type": "code",
   "execution_count": null,
   "metadata": {},
   "outputs": [],
   "source": [
    "'''\n",
    "tracemalloc.start()\n",
    "print(tracemalloc.get_traced_memory())\n",
    "\n",
    "# Embeddings\n",
    "from langchain_community.embeddings import ModelScopeEmbeddings\n",
    "model_id = \"damo/nlp_corom_sentence-embedding_english-base\"\n",
    "embeddings = ModelScopeEmbeddings(model_id=model_id)\n",
    "\n",
    "# Store\n",
    "docsearch = await FAISS.afrom_documents(docs, embeddings)\n",
    "\n",
    "print(tracemalloc.get_traced_memory())\n",
    "tracemalloc.stop()\n",
    "'''"
   ]
  },
  {
   "cell_type": "code",
   "execution_count": null,
   "metadata": {},
   "outputs": [],
   "source": [
    "'''\n",
    "%%time\n",
    "for i in range(10):\n",
    "    docsearch.similarity_search(query)\n",
    "\n",
    "docsearch.similarity_search(query)\n",
    "'''"
   ]
  },
  {
   "cell_type": "markdown",
   "metadata": {},
   "source": [
    "# HuggingFaceEmbeddings & FAISS"
   ]
  },
  {
   "cell_type": "code",
   "execution_count": 3,
   "metadata": {},
   "outputs": [
    {
     "name": "stdout",
     "output_type": "stream",
     "text": [
      "(928, 11633)\n",
      "(611074318, 667287434)\n"
     ]
    }
   ],
   "source": [
    "tracemalloc.start()\n",
    "print(tracemalloc.get_traced_memory())\n",
    "\n",
    "# Embeddings\n",
    "from langchain_community.embeddings import HuggingFaceEmbeddings\n",
    "embeddings = HuggingFaceEmbeddings()\n",
    "\n",
    "# Store\n",
    "docsearch = await FAISS.afrom_documents(docs, embeddings)\n",
    "\n",
    "print(tracemalloc.get_traced_memory())\n",
    "tracemalloc.stop()"
   ]
  },
  {
   "cell_type": "code",
   "execution_count": 8,
   "metadata": {},
   "outputs": [
    {
     "name": "stdout",
     "output_type": "stream",
     "text": [
      "CPU times: user 2.29 s, sys: 69.1 ms, total: 2.36 s\n",
      "Wall time: 619 ms\n"
     ]
    },
    {
     "data": {
      "text/plain": [
       "[Document(page_content=\"For more information on open source, specifically how to create and grow an open source project, we've created [Open Source Guides](https://opensource.guide/) that will help you foster a healthy open source community.\"),\n",
       " Document(page_content=\"For more information on open source, specifically how to create and grow an open source project, we've created [Open Source Guides](https://opensource.guide/) that will help you foster a healthy open source community by recommending best practices for creating and maintaining repositories for your open source project.\"),\n",
       " Document(page_content='Contributing to open source projects on {% data variables.product.prodname_dotcom %} can be a rewarding way to learn, teach, and build experience in just about any skill you can imagine. For more information, see \"[How to Contribute to Open Source](https://opensource.guide/how-to-contribute/)\" in the Open Source Guides.  \\nYou can find personalized recommendations for projects and good first issues based on your past contributions, stars, and other activities in [Explore {% data variables.product.prodname_dotcom %}](https://github.com/explore).{% ifversion fpt or ghec %} For more information, see \"[AUTOTITLE](/get-started/exploring-projects-on-github/finding-ways-to-contribute-to-open-source-on-github).\"\\n{% endif %}'),\n",
       " Document(page_content='There are a variety of ways that you can contribute to open source projects.', metadata={'Header 2': 'Validating an issue or pull request'})]"
      ]
     },
     "execution_count": 8,
     "metadata": {},
     "output_type": "execute_result"
    }
   ],
   "source": [
    "%%time\n",
    "for i in range(10):\n",
    "    docsearch.similarity_search(query)\n",
    "\n",
    "docsearch.similarity_search(query)"
   ]
  },
  {
   "cell_type": "markdown",
   "metadata": {},
   "source": [
    "# Result \n",
    "\n",
    "| Embeddings Module     | Speed Create table (Cell Time) | Speed Search x10 (CPU) | Good Answer      | Memory Usage (Peak for 2K) |  Memory Usage (Peak for 18K) |\n",
    "|-----------------------|--------------------------------|------------------------|:----------------:|----------------------------|------------------------------|\n",
    "| BGE                   |                                |                        |                  | 185_254_579                | Not tested                   |\n",
    "| FastEmbed             |                                |                        |                  | Max                        | Not tested                   |\n",
    "| GPT4All               |32m 40.7s                       |2.96 s                  |🟢                | 31_415_910                 | 282854199                    |\n",
    "| Hugging Face          |79m 58.6s                       |3.33 s                  |🟢                | 58_341_908                 | 667287104                    |\n",
    "| ModelScope            |                                |                        |                  | 111_446_900                | Not tested                   |\n",
    "| HuggingFaceEmbeddings |80m 2.1s                        |2.36 s                  |🟢                | 58_066_692                 | 667287434                    |\n",
    "|                       |                                |                        |                  |                            |                              |\n",
    "\n",
    "On the tested systems:\n",
    "- HuggingFaceEmbeddings is the fastest for similarity search.\n",
    "- GPT4All is the least resource-intensive in creating a store and will be more capable of avoiding exponential cloud computing costs.\n",
    "\n"
   ]
  }
 ],
 "metadata": {
  "kernelspec": {
   "display_name": "Python 3",
   "language": "python",
   "name": "python3"
  },
  "language_info": {
   "codemirror_mode": {
    "name": "ipython",
    "version": 3
   },
   "file_extension": ".py",
   "mimetype": "text/x-python",
   "name": "python",
   "nbconvert_exporter": "python",
   "pygments_lexer": "ipython3",
   "version": "3.11.8"
  }
 },
 "nbformat": 4,
 "nbformat_minor": 2
}
