{
 "cells": [
  {
   "cell_type": "code",
   "execution_count": null,
   "metadata": {},
   "outputs": [],
   "source": [
    "# Base ctransformers with no GPU acceleration\n",
    "#pip install ctransformers\n",
    "# Or with CUDA GPU acceleration\n",
    "#pip install ctransformers[cuda]\n",
    "# Or with AMD ROCm GPU acceleration (Linux only)\n",
    "#CT_HIPBLAS=1 pip install ctransformers --no-binary ctransformers\n",
    "# Or with Metal GPU acceleration for macOS systems only\n",
    "#CT_METAL=1 pip install ctransformers --no-binary ctransformers\n"
   ]
  },
  {
   "cell_type": "code",
   "execution_count": 2,
   "metadata": {},
   "outputs": [
    {
     "data": {
      "application/vnd.jupyter.widget-view+json": {
       "model_id": "aaadc84ff43c42c885ab312e397b346c",
       "version_major": 2,
       "version_minor": 0
      },
      "text/plain": [
       "Fetching 1 files:   0%|          | 0/1 [00:00<?, ?it/s]"
      ]
     },
     "metadata": {},
     "output_type": "display_data"
    },
    {
     "data": {
      "application/vnd.jupyter.widget-view+json": {
       "model_id": "5b1fa08220c8417cbf63a6c767ec5d50",
       "version_major": 2,
       "version_minor": 0
      },
      "text/plain": [
       "Fetching 1 files:   0%|          | 0/1 [00:00<?, ?it/s]"
      ]
     },
     "metadata": {},
     "output_type": "display_data"
    },
    {
     "name": "stdout",
     "output_type": "stream",
     "text": [
      "\n",
      "\n",
      "of a time long ago\n",
      "\n",
      "when the world was young\n",
      "\n",
      "and magic was free\n",
      "\n",
      "where unicorns roamed\n",
      "\n",
      "through forests of green\n",
      "\n",
      "and fairies danced\n",
      "\n",
      "beneath starry beams.\n",
      "\n",
      "oh, how I'd love\n",
      "\n",
      "to lose myself in such a place\n",
      "\n",
      "where dreams come true\n",
      "\n",
      "and hearts are never chained\n",
      "\n",
      "in such a world\n",
      "\n",
      "i'd find my way at last\n",
      "\n",
      "to the person I was meant to be\n",
      "\n",
      "and the love that would forever last.\n",
      "\n",
      "so tell me a story, dear friend,\n",
      "\n",
      "of a time long ago\n",
      "\n",
      "when the world was young\n",
      "\n",
      "and magic was free.\n",
      "\n",
      "let me believe in enchantment\n",
      "\n",
      "and the power of dreams\n",
      "\n",
      "for in such a place\n",
      "\n",
      "my heart will find release.\n"
     ]
    }
   ],
   "source": [
    "from ctransformers import AutoModelForCausalLM\n",
    "\n",
    "# Set gpu_layers to the number of layers to offload to GPU. Set to 0 if no GPU acceleration is available on your system.\n",
    "llm = AutoModelForCausalLM.from_pretrained(\"TheBloke/zephyr-7B-beta-GGUF\", model_file=\"zephyr-7b-beta.Q4_K_M.gguf\", model_type=\"mistral\", gpu_layers=0)\n",
    "\n",
    "print(llm(\"tell me a story\"))"
   ]
  },
  {
   "cell_type": "code",
   "execution_count": null,
   "metadata": {},
   "outputs": [],
   "source": [
    "\n",
    "\n",
    "\n",
    "\n",
    "\n"
   ]
  },
  {
   "cell_type": "code",
   "execution_count": null,
   "metadata": {},
   "outputs": [],
   "source": []
  },
  {
   "cell_type": "code",
   "execution_count": null,
   "metadata": {},
   "outputs": [],
   "source": []
  }
 ],
 "metadata": {
  "kernelspec": {
   "display_name": "Python 3",
   "language": "python",
   "name": "python3"
  },
  "language_info": {
   "codemirror_mode": {
    "name": "ipython",
    "version": 3
   },
   "file_extension": ".py",
   "mimetype": "text/x-python",
   "name": "python",
   "nbconvert_exporter": "python",
   "pygments_lexer": "ipython3",
   "version": "3.11.5"
  }
 },
 "nbformat": 4,
 "nbformat_minor": 2
}
