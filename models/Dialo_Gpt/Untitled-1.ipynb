{
 "cells": [
  {
   "cell_type": "code",
   "execution_count": 1,
   "metadata": {},
   "outputs": [
    {
     "data": {
      "application/vnd.jupyter.widget-view+json": {
       "model_id": "ed2efefeb35a40078074bc4c701c7c78",
       "version_major": 2,
       "version_minor": 0
      },
      "text/plain": [
       "Fetching 1 files:   0%|          | 0/1 [00:00<?, ?it/s]"
      ]
     },
     "metadata": {},
     "output_type": "display_data"
    },
    {
     "data": {
      "application/vnd.jupyter.widget-view+json": {
       "model_id": "2b2805ed201f46709770c7a2c4ddcfde",
       "version_major": 2,
       "version_minor": 0
      },
      "text/plain": [
       "Fetching 1 files:   0%|          | 0/1 [00:00<?, ?it/s]"
      ]
     },
     "metadata": {},
     "output_type": "display_data"
    },
    {
     "name": "stdout",
     "output_type": "stream",
     "text": [
      " save billions by 2025.\n",
      "\n",
      "The use of Artificial Intelligence (AI) is poised to increase the efficiency and effectiveness of supply chain operations, which will lead to cost savings for businesses globally worth US$16 billion annually by 2025, according to a new report from DHL and TrendForce, a global provider of market intelligence and consulting services.\n",
      "This growth has also resulted in increased investments: Global investment in AI startups reached US$9.3 billion in 2018, up 72% compared to the previous year, according to Crunchbase data analyzed by CB Insights.\n",
      "The report identifies that two main use cases are already yielding tangible results: Firstly, demand forecasting, which enables more accurate inventory management and reduces stockouts while preventing excess stocks from tying up capital; Secondly, automated truck trailer loading and unloading, which enhances efficiency and safety in warehouses and on docks, particularly for e-commerce companies dealing with a high volume of SKUs (Stock Keeping Units) that need to be picked, packed and shipped quickly.\n",
      "The report also highlights the potential of AI in other areas such as predictive maintenance\n"
     ]
    }
   ],
   "source": [
    "from ctransformers import AutoModelForCausalLM\n",
    "\n",
    "# Set gpu_layers to the number of layers to offload to GPU. Set to 0 if no GPU acceleration is available on your system.\n",
    "llm = AutoModelForCausalLM.from_pretrained(\"TheBloke/zephyr-7B-beta-GGUF\", model_file=\"zephyr-7b-beta.Q4_K_M.gguf\", model_type=\"mistral\", gpu_layers=0)\n",
    "\n",
    "print(llm(\"AI is going to\"))"
   ]
  },
  {
   "cell_type": "code",
   "execution_count": null,
   "metadata": {},
   "outputs": [],
   "source": []
  }
 ],
 "metadata": {
  "kernelspec": {
   "display_name": "base",
   "language": "python",
   "name": "python3"
  },
  "language_info": {
   "codemirror_mode": {
    "name": "ipython",
    "version": 3
   },
   "file_extension": ".py",
   "mimetype": "text/x-python",
   "name": "python",
   "nbconvert_exporter": "python",
   "pygments_lexer": "ipython3",
   "version": "3.11.5"
  }
 },
 "nbformat": 4,
 "nbformat_minor": 2
}
