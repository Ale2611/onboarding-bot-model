{
 "cells": [
  {
   "cell_type": "code",
   "execution_count": 1,
   "metadata": {},
   "outputs": [],
   "source": [
    "# Base ctransformers with no GPU acceleration\n",
    "#pip install ctransformers\n",
    "# Or with CUDA GPU acceleration\n",
    "#pip install ctransformers[cuda]\n",
    "# Or with AMD ROCm GPU acceleration (Linux only)\n",
    "#CT_HIPBLAS=1 pip install ctransformers --no-binary ctransformers\n",
    "# Or with Metal GPU acceleration for macOS systems only\n",
    "#CT_METAL=1 pip install ctransformers --no-binary ctransformers\n"
   ]
  },
  {
   "cell_type": "code",
   "execution_count": 2,
   "metadata": {},
   "outputs": [
    {
     "data": {
      "application/vnd.jupyter.widget-view+json": {
       "model_id": "dad1f4522dd54901b7d733eac9e2a2fb",
       "version_major": 2,
       "version_minor": 0
      },
      "text/plain": [
       "Fetching 1 files:   0%|          | 0/1 [00:00<?, ?it/s]"
      ]
     },
     "metadata": {},
     "output_type": "display_data"
    },
    {
     "data": {
      "application/vnd.jupyter.widget-view+json": {
       "model_id": "bdea9f15cb6e4f42b2298ef22d9a4c7f",
       "version_major": 2,
       "version_minor": 0
      },
      "text/plain": [
       "Fetching 1 files:   0%|          | 0/1 [00:00<?, ?it/s]"
      ]
     },
     "metadata": {},
     "output_type": "display_data"
    },
    {
     "name": "stdout",
     "output_type": "stream",
     "text": [
      "\n",
      "\n",
      "There once was a woman named Carol. She went to the doctor and said, \"I've got something stuck in my rectum and I can't get it out.\" The doctor told her, \"Then you'd better blow me a raggedy-ass hole!\"\n",
      "\n",
      "What do you call a dinosaur with 45 acid reflux?\n",
      "A Tyrannosaurus Saur.\n",
      "\n",
      "Why did the tomato turn red?\n",
      "Because it saw the salad dressing and wanted to fit in!\n",
      "\n",
      "How do you organize a space party?\n",
      "You planet!\n",
      "\n",
      "What do you get when you mix a snowman with edamame?\n",
      "A chilly soybean.\n",
      "\n",
      "What's the difference between a snowman and a snowwoman?\n",
      "Snowballs!\n",
      "\n",
      "Why did the scarecrow win an award?\n",
      "Because he was outstanding in his field!\n",
      "\n",
      "How do you make a tissue dance?\n",
      "Put a little boogie in it!\n",
      "\n",
      "Why did the mushroom go to the party? Because he was a fun-gi!\n",
      "\n",
      "What do you get when you put grapes in a blender and blend them?\n",
      "WINE\n"
     ]
    }
   ],
   "source": [
    "from ctransformers import AutoModelForCausalLM\n",
    "\n",
    "# Set gpu_layers to the number of layers to offload to GPU. Set to 0 if no GPU acceleration is available on your system.\n",
    "llm = AutoModelForCausalLM.from_pretrained(\"TheBloke/zephyr-7B-beta-GGUF\", model_file=\"zephyr-7b-beta.Q4_K_M.gguf\", model_type=\"mistral\", gpu_layers=0)\n",
    "\n",
    "print(llm(\"tell me joke\"))"
   ]
  },
  {
   "cell_type": "code",
   "execution_count": null,
   "metadata": {},
   "outputs": [],
   "source": [
    "\n",
    "\n",
    "\n",
    "\n",
    "\n"
   ]
  },
  {
   "cell_type": "code",
   "execution_count": null,
   "metadata": {},
   "outputs": [],
   "source": []
  },
  {
   "cell_type": "code",
   "execution_count": null,
   "metadata": {},
   "outputs": [],
   "source": []
  }
 ],
 "metadata": {
  "kernelspec": {
   "display_name": "Python 3",
   "language": "python",
   "name": "python3"
  },
  "language_info": {
   "codemirror_mode": {
    "name": "ipython",
    "version": 3
   },
   "file_extension": ".py",
   "mimetype": "text/x-python",
   "name": "python",
   "nbconvert_exporter": "python",
   "pygments_lexer": "ipython3",
   "version": "3.11.5"
  }
 },
 "nbformat": 4,
 "nbformat_minor": 2
}
